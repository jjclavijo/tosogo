{
 "cells": [
  {
   "cell_type": "code",
   "execution_count": 14,
   "metadata": {},
   "outputs": [],
   "source": [
    "#!ln -s /proyecto"
   ]
  },
  {
   "cell_type": "markdown",
   "metadata": {},
   "source": [
    "# Memoria de Relevamiento\n",
    "\n",
    "Se midieron con equipos GPS de simple frecuencia dos puntos que se denominaron\n",
    "PFD1 y PFD2, y se vincularon a la estación permanente IGM1. En este apartado\n",
    "se describe el procesamiento GPS, incluyendo la salida del programa de procesamiento. "
   ]
  },
  {
   "cell_type": "markdown",
   "metadata": {},
   "source": [
    "## Archivos de medición\n",
    "\n",
    "Los archivos de medición se incluyen en formato Rinex 2.11, como\n",
    "\n",
    "```\n",
    "proyecto/PFD10240.20o\n",
    "proyecto/PFD20240.20o\n",
    "```\n",
    "\n",
    "El archivo de medición de la estación IGM1 se obtuvo de la web del IGN, se incluye como\n",
    "\n",
    "```\n",
    "proyecto/igm10240.20o\n",
    "```"
   ]
  },
  {
   "cell_type": "markdown",
   "metadata": {},
   "source": [
    "## Datos de Sesion.\n",
    "\n",
    "Los datos de la sesión, extraidos de los archivos de medición,\n",
    "se completan en los anexos 4.1 que se adjuntan.\n",
    "\n",
    "Se incluye también el anexo 4 con datos generales del trabajo."
   ]
  },
  {
   "cell_type": "code",
   "execution_count": 15,
   "metadata": {},
   "outputs": [],
   "source": [
    "FILEFLD = 'proyecto'\n",
    "BASE = 'igm10240.20o'\n",
    "PIE = 'PFD10240.20o'\n",
    "AZIMUT = 'PFD20240.20o'"
   ]
  },
  {
   "cell_type": "markdown",
   "metadata": {},
   "source": [
    "# Creación de Archivos de Sesiones\n",
    "\n",
    "Se crean archivos para las dos sesiones de cada vector, Cortando los archivos \n",
    "con la herramienta RinEdit, del paquete GPSTk. Los tiempos se extraen también con\n",
    "la herramienta RinSum, del paquete GPSTk"
   ]
  },
  {
   "cell_type": "code",
   "execution_count": 63,
   "metadata": {},
   "outputs": [],
   "source": [
    "import warnings\n",
    "warnings.filterwarnings('ignore')"
   ]
  },
  {
   "cell_type": "code",
   "execution_count": 16,
   "metadata": {},
   "outputs": [],
   "source": [
    "import fillforms\n",
    "import os.path"
   ]
  },
  {
   "cell_type": "code",
   "execution_count": 17,
   "metadata": {},
   "outputs": [],
   "source": [
    "from itertools import repeat,cycle"
   ]
  },
  {
   "cell_type": "code",
   "execution_count": 18,
   "metadata": {},
   "outputs": [],
   "source": [
    "import numbers\n",
    "import pandas as pd\n",
    "from math import cos\n",
    "import re\n",
    "import numpy as np\n",
    "from datetime import datetime\n",
    "import matplotlib.pyplot as plt\n",
    "\n",
    "import pyconf\n",
    "\n",
    "DEG2RAD = 3.14159 / 180\n",
    "\n",
    "totime = lambda x: np.datetime64(datetime(*x))"
   ]
  },
  {
   "cell_type": "code",
   "execution_count": 19,
   "metadata": {},
   "outputs": [],
   "source": [
    "COLS = [\"date\",\"GPST\", \"latitude\", \"longitude\",\"height\",\"Q\",\"ns\",\"sdn\",\"sde\",\"sdu\",\"sdne\",\"sdeu\",\"sdun\",\"age\",\"ratio\"]\n",
    "\n",
    "#to_GPSTk_time :: np.datetime64 -> String\n",
    "def toGpstkTime(time):\n",
    "    return '{},{},{},{},{},{}'.format(*time.astype(datetime).timetuple())\n",
    "\n",
    "#path\n",
    "def isRinex(path):\n",
    "    result,*_ = !RinSum {path} | grep -q \"This header is VALID\" && echo True || echo False\n",
    "    if result == \"True\":\n",
    "        return True\n",
    "    else:\n",
    "        return False\n",
    "    \n",
    "#parse_times :: RinSum output -> [time,time,time]\n",
    "def parse_times(rxSum):\n",
    "    for i in rxSum:\n",
    "        if m := re.match(r'.*first\\s+epoch:\\s+(\\d+).(\\d+).(\\d+).*?(\\d+).(\\d+).(\\d+).*?=.*?(\\d+)\\s+(\\d+)\\s+([\\d\\.]+)',i):\n",
    "            ini_time = totime((int(i) for i in m.groups()[:6]))\n",
    "        if m := re.match(r'.*last\\s+epoch:\\s+(\\d+).(\\d+).(\\d+).*?(\\d+).(\\d+).(\\d+).*?=.*?(\\d+)\\s+(\\d+)\\s+([\\d\\.]+)',i):\n",
    "            end_time = totime((int(i) for i in m.groups()[:6]))\n",
    "    medio_st = (ini_time + (end_time-ini_time)/2)\n",
    "    \n",
    "    return {'start':ini_time,'mid':medio_st,'end':end_time}\n",
    "    \n",
    "class DataFile(object):\n",
    "    def __init__(self,file):\n",
    "        self.path = file\n",
    "        self.p1path = None\n",
    "        self.p2path = None\n",
    "        self._sumary = !RinSum {self.path}\n",
    "        self.times = parse_times(self._sumary)\n",
    "        self.sess = {}\n",
    "        self.sessData = {}\n",
    "\n",
    "        \n",
    "    def mid_split(self,folder):\n",
    "        file = os.path.basename(self.path)\n",
    "        self.p1path = os.path.join(folder,file.replace('0.','1.'))\n",
    "        self.p2path = os.path.join(folder,file.replace('0.','2.'))\n",
    "        m = toGpstkTime(self.times['mid'])\n",
    "        \n",
    "        !RinEdit --IF {self.path} --OF {self.p1path} --TE {m}\n",
    "        !RinEdit --IF {self.path} --OF {self.p2path} --TB {m}\n",
    "        \n",
    "        if isRinex(self.p1path) and isRinex(self.p2path):\n",
    "            return True\n",
    "        else:\n",
    "            raise ValueError('Split Failed')\n",
    "            \n",
    "    def _compute_pdop(self,nav=None,part=0):\n",
    "\n",
    "        path = {0:self.path,1:self.p1path,2:self.p2path}.get(part,None)\n",
    "        \n",
    "        if path is None:\n",
    "            raise ValueError('Attemp to read an uninitialized part')\n",
    "\n",
    "        basepath = '.'.join(path.split('.')[:-1])\n",
    "        basedir = os.path.join(os.path.dirname(basepath),'single-sols')\n",
    "        !mkdir -p {basedir}\n",
    "\n",
    "        basepath = os.path.join(basedir,os.path.basename(basepath))\n",
    "        \n",
    "        if nav is None:\n",
    "            nav = path[:-1]+'n'\n",
    "\n",
    "        !PRSolve --obs {path} --nav {nav} --sol GPS:1:C --log {basepath}.sol\n",
    "        !grep \"RPF GPS:1:C RMS\" {basepath}.sol > {basepath}.sol.stats\n",
    "\n",
    "        with open('{}.sol.stats'.format(basepath),'r') as f:\n",
    "            fstline = f.readline()\n",
    "        \n",
    "        #!echo \"{fstline.split()[3]} {fstline.split()[4]}\"\n",
    "        #!timeconvert --ws \"{fstline.split()[3]} {fstline.split()[4]}\" -F \"%Y %m %d %H %M %S\"\n",
    "        \n",
    "        out,*_ = !timeconvert --ws \"{fstline.split()[3]} {fstline.split()[4]}\" -F \"%Y %m %d %H %M %S\"\n",
    "        initime = totime([int(i) for i in out.split()])\n",
    "        \n",
    "        PDOP = pd.read_fwf('{}.sol.stats'.format(basepath),header=None).set_index(4).loc[:,8]\n",
    "\n",
    "        PDOP.index = initime + (PDOP.index - PDOP.index[0]) * np.timedelta64(1,'s')\n",
    "        \n",
    "        return PDOP\n",
    "    \n",
    "    def store_pdops(self,nav=None):\n",
    "        self.pdop = self._compute_pdop(nav=nav,part=0)\n",
    "        try:\n",
    "            self.p1pdop = self._compute_pdop(nav=nav,part=1)\n",
    "            self.p2pdop = self._compute_pdop(nav=nav,part=2)\n",
    "        except ValueError as e:\n",
    "            print('WARNING:{}'.format(e))\n",
    "        \n",
    "        return True\n",
    "\n",
    "    def _pdop_filter(self,max_pdop=2.5):\n",
    "    \n",
    "        malos = self.pdop[self.pdop > max_pdop].index\n",
    "\n",
    "        starts = malos[1:][((malos[1:]-malos[:-1]) / np.timedelta64(1,'s')).values > 1]\n",
    "        starts = pd.Index(np.concatenate([malos[:1],starts]))\n",
    "        stops = malos[:-1][((malos[1:]-malos[:-1]) / np.timedelta64(1,'s')).values > 1]\n",
    "        stops = pd.Index(np.concatenate([stops,malos[-1:]]))\n",
    "\n",
    "        breaks = []\n",
    "        for b,e in zip(starts,stops):\n",
    "            b=np.datetime64(b)\n",
    "            e=np.datetime64(e)\n",
    "            if e == b:\n",
    "                breaks.append('--DA {}'.format(toGpstkTime(b)))\n",
    "            else:\n",
    "                breaks.append('--DA+ {} --DA- {}'.format(toGpstkTime(b),toGpstkTime(e+np.timedelta64(1,'s'))))\n",
    "\n",
    "        basedir = os.path.join(os.path.dirname(self.path),'pdop-cleaned')\n",
    "        !mkdir -p {basedir}\n",
    "        \n",
    "        outpath = os.path.join(basedir,os.path.basename(self.path))\n",
    "    \n",
    "        !RinEdit --IF {self.path} --OF {outpath} {' '.join(breaks)}\n",
    "\n",
    "        return DataFile(outpath)\n",
    "    \n",
    "    def process(self,base,conf,sp3=[],nav=None,session=None,folder=None):\n",
    "        if session == None:\n",
    "            for i in range(3):\n",
    "                self.process(base,conf,session=i,sp3=sp3,nav=nav,folder=folder)\n",
    "            return True\n",
    "        \n",
    "        path = {0:self.path,1:self.p1path,2:self.p2path}.get(session,None)\n",
    "\n",
    "        if path is None:\n",
    "            raise ValueError('Attemp to read an uninitialized part')\n",
    "\n",
    "        basepath = '.'.join(path.split('.')[:-1])\n",
    "            \n",
    "        if nav is None:\n",
    "            nav = path[:-1]+'n'\n",
    "\n",
    "        if folder == None:\n",
    "            folder = os.path.join(os.path.dirname(self.path),'sesiones')\n",
    "        \n",
    "        !mkdir -p {folder}\n",
    "            \n",
    "        punto = path\n",
    "        base = base.path\n",
    "        eph = ' '.join(['{}'.format(i) for i in set(sp3files)])\n",
    "        sessname = '{}-{}-{}'.format(os.path.basename(base)[:4],\n",
    "                                     os.path.basename(path)[:4],session)\n",
    "        output = os.path.join(folder,sessname)\n",
    "        \n",
    "        !echo rnx2rtkp -k {conf} {punto} {base} {nav} {eph} -o {output}-fw.txt\n",
    "        !rnx2rtkp -k {conf} {punto} {base} {nav} {eph} -o {output}-fw.txt\n",
    "        \n",
    "        self.sess['{}-fw'.format(session)] = '{}-fw.txt'.format(output)\n",
    "\n",
    "        !echo rnx2rtkp -b -k {conf} {punto} {base} {nav} {eph} -o {output}-bw.txt\n",
    "        !rnx2rtkp -b -k {conf} {punto} {base} {nav} {eph} -o {output}-bw.txt\n",
    "\n",
    "        self.sess['{}-bw'.format(session)] = '{}-bw.txt'.format(output)\n",
    "        \n",
    "        return True\n",
    "    \n",
    "    def reloadProcesed(self):\n",
    "        for k,v in self.sess.items():\n",
    "            sess = pd.read_fwf(v,comment='%',names=COLS,index=None)\n",
    "            sess = sess.set_index((sess.date + 'T' + sess.GPST)\\\n",
    "                                  .map(lambda x: np.datetime64(x.replace('/','-'))))\n",
    "            self.sessData[k] = sess\n",
    "        \n",
    "        return True           "
   ]
  },
  {
   "cell_type": "code",
   "execution_count": 20,
   "metadata": {},
   "outputs": [
    {
     "name": "stdout",
     "output_type": "stream",
     "text": [
      "Output redirected to log file proyecto/single-sols/PFD10240.sol\n",
      "PRSolve timing: processing 20.597 sec, wallclock: 21 sec.\n",
      "WARNING:Attemp to read an uninitialized part\n",
      "# RinEdit, part of the GPS Toolkit, Ver 2.4 9/23/15 rev, Run 2021/04/05 23:16:31\n",
      "Reading header...\n",
      "# Header ObsIDs GPS (3): L1C C1C D1C\n",
      "Reading observations...\n",
      " Opened output file proyecto/pdop-cleaned/PFD10240.20o at time 2020/01/24 18:35:15 = 2089 498915.000 GPS\n",
      " Close output file.\n",
      "RinEdit timing: processing 2.412 sec, wallclock: 3 sec.\n",
      "Output redirected to log file proyecto/single-sols/PFD20240.sol\n",
      "PRSolve timing: processing 20.362 sec, wallclock: 20 sec.\n",
      "WARNING:Attemp to read an uninitialized part\n",
      "# RinEdit, part of the GPS Toolkit, Ver 2.4 9/23/15 rev, Run 2021/04/05 23:16:56\n",
      "Reading header...\n",
      "# Header ObsIDs GPS (3): L1C C1C D1C\n",
      "Reading observations...\n",
      " Opened output file proyecto/pdop-cleaned/PFD20240.20o at time 2020/01/24 19:37:31 = 2089 502651.000 GPS\n",
      " Close output file.\n",
      "RinEdit timing: processing 2.127 sec, wallclock: 3 sec.\n"
     ]
    }
   ],
   "source": [
    "datos = {}\n",
    "\n",
    "for i,k in zip([BASE, PIE, AZIMUT],['base','pie','azimut']):\n",
    "    archivo = os.path.join(FILEFLD,i)\n",
    "    f = DataFile(archivo)\n",
    "    datos[k] = f\n",
    "\n",
    "REFNAV = datos['base'].path[:-1]+'n'\n",
    "    \n",
    "# TRIM PDOP > 2.5\n",
    "for k in ['pie','azimut']:\n",
    "    datos[k].store_pdops(nav=REFNAV)\n",
    "    datos[k] = datos[k]._pdop_filter()"
   ]
  },
  {
   "cell_type": "code",
   "execution_count": 21,
   "metadata": {},
   "outputs": [
    {
     "name": "stdout",
     "output_type": "stream",
     "text": [
      "# RinEdit, part of the GPS Toolkit, Ver 2.4 9/23/15 rev, Run 2021/04/05 23:17:00\n",
      "   End time --end is 2089,508305.000000 = 2020,1,24,21,11,45\n",
      "Reading header...\n",
      "# Header ObsIDs GPS (3): L1C C1C D1C\n",
      "Reading observations...\n",
      " Opened output file proyecto/splits/PFD10241.20o at time 2020/01/24 18:35:15 = 2089 498915.000 GPS\n",
      " Close output file.\n",
      "RinEdit timing: processing 1.108 sec, wallclock: 1 sec.\n",
      "# RinEdit, part of the GPS Toolkit, Ver 2.4 9/23/15 rev, Run 2021/04/05 23:17:01\n",
      "   Begin time --begin is 2089,508305.000000 = 2020,1,24,21,11,45\n",
      "Reading header...\n",
      "# Header ObsIDs GPS (3): L1C C1C D1C\n",
      "Reading observations...\n",
      " Opened output file proyecto/splits/PFD10242.20o at time 2020/01/24 21:11:45 = 2089 508305.000 GPS\n",
      " Close output file.\n",
      "RinEdit timing: processing 1.550 sec, wallclock: 2 sec.\n",
      "Output redirected to log file proyecto/pdop-cleaned/single-sols/PFD10240.sol\n",
      "PRSolve timing: processing 20.244 sec, wallclock: 20 sec.\n",
      "Output redirected to log file proyecto/splits/single-sols/PFD10241.sol\n",
      "PRSolve timing: processing 10.431 sec, wallclock: 11 sec.\n",
      "Output redirected to log file proyecto/splits/single-sols/PFD10242.sol\n",
      "PRSolve timing: processing 10.518 sec, wallclock: 11 sec.\n",
      "# RinEdit, part of the GPS Toolkit, Ver 2.4 9/23/15 rev, Run 2021/04/05 23:17:48\n",
      "   End time --end is 2089,511179.000000 = 2020,1,24,21,59,39\n",
      "Reading header...\n",
      "# Header ObsIDs GPS (3): L1C C1C D1C\n",
      "Reading observations...\n",
      " Opened output file proyecto/splits/PFD20241.20o at time 2020/01/24 19:37:31 = 2089 502651.000 GPS\n",
      " Close output file.\n",
      "RinEdit timing: processing 1.038 sec, wallclock: 1 sec.\n",
      "# RinEdit, part of the GPS Toolkit, Ver 2.4 9/23/15 rev, Run 2021/04/05 23:17:50\n",
      "   Begin time --begin is 2089,511179.000000 = 2020,1,24,21,59,39\n",
      "Reading header...\n",
      "# Header ObsIDs GPS (3): L1C C1C D1C\n",
      "Reading observations...\n",
      " Opened output file proyecto/splits/PFD20242.20o at time 2020/01/24 21:59:39 = 2089 511179.000 GPS\n",
      " Close output file.\n",
      "RinEdit timing: processing 1.435 sec, wallclock: 1 sec.\n",
      "Output redirected to log file proyecto/pdop-cleaned/single-sols/PFD20240.sol\n",
      "PRSolve timing: processing 17.385 sec, wallclock: 18 sec.\n",
      "Output redirected to log file proyecto/splits/single-sols/PFD20241.sol\n",
      "PRSolve timing: processing 8.388 sec, wallclock: 8 sec.\n",
      "Output redirected to log file proyecto/splits/single-sols/PFD20242.sol\n",
      "PRSolve timing: processing 9.233 sec, wallclock: 10 sec.\n"
     ]
    }
   ],
   "source": [
    "SPLITPATH = os.path.join(FILEFLD,'splits')\n",
    "\n",
    "!mkdir -p {SPLITPATH}\n",
    "\n",
    "for k,v in datos.items():\n",
    "    if k == 'base':\n",
    "        continue\n",
    "    else:\n",
    "        v.mid_split(folder=SPLITPATH)\n",
    "        v.store_pdops(nav=datos['base'].path[:-1]+'n')"
   ]
  },
  {
   "cell_type": "code",
   "execution_count": 22,
   "metadata": {},
   "outputs": [
    {
     "name": "stdout",
     "output_type": "stream",
     "text": [
      "Output redirected to log file proyecto/single-sols/igm10240.sol\n",
      "PRSolve timing: processing 34.075 sec, wallclock: 34 sec.\n",
      "WARNING:Attemp to read an uninitialized part\n"
     ]
    },
    {
     "data": {
      "text/plain": [
       "True"
      ]
     },
     "execution_count": 22,
     "metadata": {},
     "output_type": "execute_result"
    }
   ],
   "source": [
    "datos['base'].store_pdops(nav=datos['base'].path[:-1]+'n')"
   ]
  },
  {
   "cell_type": "markdown",
   "metadata": {},
   "source": [
    "# Gráficas del PDOP\n",
    "\n",
    "Con la herramienta PRSolve, parte de GPSTk, se calculó el PDOP para cada época de las sesiones. El mismo \n",
    "se grafica a continuación (en un gráfico por cada sesión, incluyendo los datos de ambas estaciones).\n",
    "\n",
    "Se calculó el PDOP máximo y medio en cada caso."
   ]
  },
  {
   "cell_type": "code",
   "execution_count": 23,
   "metadata": {},
   "outputs": [
    {
     "data": {
      "image/png": "[encoded data removed]",
      "text/plain": [
       "<Figure size 720x216 with 1 Axes>"
      ]
     },
     "metadata": {
      "needs_background": "light"
     },
     "output_type": "display_data"
    },
    {
     "data": {
      "image/png": "[encoded data removed]",
      "text/plain": [
       "<Figure size 720x216 with 1 Axes>"
      ]
     },
     "metadata": {
      "needs_background": "light"
     },
     "output_type": "display_data"
    },
    {
     "data": {
      "image/png": "[encoded data removed]",
      "text/plain": [
       "<Figure size 720x216 with 1 Axes>"
      ]
     },
     "metadata": {
      "needs_background": "light"
     },
     "output_type": "display_data"
    },
    {
     "data": {
      "image/png": "[encoded data removed]",
      "text/plain": [
       "<Figure size 720x216 with 1 Axes>"
      ]
     },
     "metadata": {
      "needs_background": "light"
     },
     "output_type": "display_data"
    }
   ],
   "source": [
    "for doprover,dopbase,titulo in zip(\n",
    "    [datos['pie'].p1pdop,datos['pie'].p2pdop,datos['azimut'].p1pdop,datos['azimut'].p2pdop],\n",
    "    repeat(datos['base'].pdop),\n",
    "    ['Vector Largo Sesion A','Vector Largo Sesion B',\n",
    "     'Vector Corto Sesion A','Vector Corto Sesion B']):\n",
    "    \n",
    "    fig,ax = plt.subplots(figsize=(10,3))\n",
    "    doprover.plot(style='x',ax=ax,label='PDOP Rover')\n",
    "    dopbase.reindex(doprover.index).plot(style='.',ax=ax,label='PDOP Base')\n",
    "    ax.set_title(titulo)\n",
    "    ax.legend()\n",
    "    ax.set_xlabel(\"Tiempo\")\n",
    "    ax.set_ylabel(\"PDOP\")\n",
    "    plt.show()"
   ]
  },
  {
   "cell_type": "markdown",
   "metadata": {},
   "source": [
    "# Con esta información se generaron los Anexos 4 y 4.1"
   ]
  },
  {
   "cell_type": "code",
   "execution_count": 24,
   "metadata": {},
   "outputs": [],
   "source": [
    "filesinfo = fillforms.get_rx_data(datos['base'].path,\n",
    "                                  datos['pie'].p1path,\n",
    "                                  datos['pie'].p2path )\n",
    "fillforms.make_template(filesinfo,template_file='./Anexo4.1.fdf')"
   ]
  },
  {
   "cell_type": "code",
   "execution_count": 25,
   "metadata": {},
   "outputs": [],
   "source": [
    "kwargs = {\n",
    "    'pdf_file':'./Anexo4.1.pdf',\n",
    "    'fdf_file':'./4.1.tmp.fdf',\n",
    "    'base':BASE[:4],\n",
    "    'punto':PIE[:4]\n",
    "}\n",
    "fillforms.apply_template(**kwargs)"
   ]
  },
  {
   "cell_type": "markdown",
   "metadata": {},
   "source": [
    "# Antenas:\n",
    "\n",
    "Las antenas utilizadas, modelo NAP100 de Ashtech, que son las antenas originales del equipo Promark 3, no se encuentran en el archivo de información de antena del software de procesamiento RTKLIB, los parámetros utilizados, extraidos de la información que viene grabada en la antena, están a continuación y son agregados al archivo de antenas para poder realizar el cálculo.\n",
    "\n",
    "El formato del archivo es el siguiente:\n",
    "https://kb.igs.org/hc/en-us/articles/216104678-ANTEX-format-description\n",
    "\n",
    "Los datos agregados Son:\n",
    "```      \n",
    "                                                            START OF ANTENNA    \n",
    "NAP100          NONE                                        TYPE / SERIAL NO    \n",
    "FIELD               JJC                      0    02-DIC-20 METH / BY / # / DATE\n",
    "     0.0                                                    DAZI                \n",
    "     0.0  80.0   5.0                                        ZEN1 / ZEN2 / DZEN  \n",
    "     1                                                      # OF FREQUENCIES    \n",
    "CONVERTED FROM RELATIVE NGS ANTENNA CALIBRATIONS            COMMENT             \n",
    "   G01                                                      START OF FREQUENCY  \n",
    "      0.00      0.00     73.00                              NORTH / EAST / UP   \n",
    "   G01                                                      END OF FREQUENCY    \n",
    "                                                            END OF ANTENNA      \n",
    "```      \n",
    "                                                            \n",
    "\n"
   ]
  },
  {
   "cell_type": "code",
   "execution_count": 26,
   "metadata": {},
   "outputs": [],
   "source": [
    "antenaNAP100 = \\\n",
    "\"\"\"\n",
    "                                                            START OF ANTENNA    \n",
    "NAP100          NONE                                        TYPE / SERIAL NO    \n",
    "FIELD               JJC                      0    02-DIC-20 METH / BY / # / DATE\n",
    "     0.0                                                    DAZI                \n",
    "     0.0  80.0   5.0                                        ZEN1 / ZEN2 / DZEN  \n",
    "     1                                                      # OF FREQUENCIES    \n",
    "CONVERTED FROM RELATIVE NGS ANTENNA CALIBRATIONS            COMMENT             \n",
    "   G01                                                      START OF FREQUENCY  \n",
    "      0.00      0.00     73.00                              NORTH / EAST / UP   \n",
    "   G01                                                      END OF FREQUENCY    \n",
    "                                                            END OF ANTENNA\n",
    "EOF\n",
    "\"\"\"\n",
    "!cat /rtklib/data/igs05.atx - <<EOF > /rtklib/data/antenas.atx $antenaNAP100"
   ]
  },
  {
   "cell_type": "code",
   "execution_count": 27,
   "metadata": {},
   "outputs": [],
   "source": [
    "with open('/proyecto/conf.cfg','r') as f:\n",
    "    confs = {i.strip():j.strip() for i,j in [k.split('=') for k in f.readlines()]}\n",
    "    \n",
    "    for i in pyconf.formulario.children:\n",
    "        try:\n",
    "            if i.description == 'pos1-navsys':\n",
    "                continue\n",
    "            \n",
    "            opts = [j.split(':')[1] for j in i.options]\n",
    "            optsn = [j.split(':')[0] for j in i.options]\n",
    "            \n",
    "            if (val := confs[i.description]) in opts:\n",
    "                i.value = i.options[opts.index(val)]\n",
    "            elif (val := confs[i.description]) in optsn:\n",
    "                i.value = i.options[optsn.index(val)]\n",
    "        except AttributeError:\n",
    "            if isinstance(i.value,int):\n",
    "                if confs[i.description] == '':\n",
    "                    i.value = -1\n",
    "                else:\n",
    "                    i.value = int(confs[i.description])\n",
    "            elif isinstance(i.value,str):\n",
    "                i.value = confs[i.description]\n",
    "            elif isinstance(i.value,float):\n",
    "                i.value = float(confs[i.description])\n",
    "                if confs[i.description] == '':\n",
    "                    i.value = -1"
   ]
  },
  {
   "cell_type": "code",
   "execution_count": 28,
   "metadata": {},
   "outputs": [
    {
     "data": {
      "application/vnd.jupyter.widget-view+json": {
       "model_id": "73df7cebdbc34ef996d663154609731e",
       "version_major": 2,
       "version_minor": 0
      },
      "text/plain": [
       "GridspecLayout(children=(Dropdown(description='pos1-posmode', index=3, layout=Layout(grid_area='widget001'), o…"
      ]
     },
     "metadata": {},
     "output_type": "display_data"
    }
   ],
   "source": [
    "pyconf.formulario"
   ]
  },
  {
   "cell_type": "code",
   "execution_count": 29,
   "metadata": {},
   "outputs": [],
   "source": [
    "import numbers\n",
    "\n",
    "with open('/proyecto/conf.cfg','w') as f:\n",
    "    for i in pyconf.formulario.children:\n",
    "        try:\n",
    "            if isinstance(i.value, (list, tuple)):\n",
    "                value = sum([int(v.split(':')[0]) for v in i.value if v.split(':')[0] != ''])\n",
    "            else:\n",
    "                value = i.value.split(':')[-1]\n",
    "                \n",
    "            try:\n",
    "                if int(value) < 0: # -1 is blank\n",
    "                    value = ''\n",
    "            except ValueError:\n",
    "                pass\n",
    "            \n",
    "        except AttributeError:\n",
    "            value = i.value\n",
    "            try:\n",
    "                if int(value) < 0: # -1 is blank\n",
    "                    value = ''\n",
    "            except ValueError:\n",
    "                pass\n",
    "\n",
    "        print('{} ={}'.format(i.description,value),file=f)"
   ]
  },
  {
   "cell_type": "code",
   "execution_count": 30,
   "metadata": {},
   "outputs": [
    {
     "name": "stdout",
     "output_type": "stream",
     "text": [
      "pos1-posmode =static\n",
      "pos1-frequency =l1\n",
      "pos1-soltype =forward\n",
      "pos1-elmask =10\n",
      "pos1-snrmask =\n",
      "pos1-dynamics =on\n",
      "pos1-tidecorr =on\n",
      "pos1-ionoopt =off\n",
      "pos1-tropopt =saas\n",
      "pos1-sateph =brdc\n",
      "pos1-exclsats =\n",
      "pos1-navsys =1\n",
      "pos2-armode =fix-and-hold\n",
      "pos2-gloarmode =on\n",
      "pos2-arthres =3\n",
      "pos2-arlockcnt =60\n",
      "pos2-arelmask =15\n",
      "pos2-aroutcnt =1\n",
      "pos2-arminfix =120\n",
      "pos2-elmaskhold =20\n",
      "pos2-slipthres =0.05\n",
      "pos2-maxage =30\n",
      "pos2-rejionno =30\n",
      "pos2-niter =5\n",
      "pos2-baselen =\n",
      "pos2-basesig =\n",
      "out-solformat =llh\n",
      "out-outhead =on\n",
      "out-outopt =on\n",
      "out-timesys =gpst\n",
      "out-timeform =hms\n",
      "out-timendec =3\n",
      "out-degform =deg\n",
      "out-fieldsep =\n",
      "out-height =ellipsoidal\n",
      "out-geoid =internal\n",
      "out-solstatic =all\n",
      "out-nmeaintv1 =\n",
      "out-nmeaintv2 =\n",
      "out-outstat =residual\n",
      "stats-errratio =100\n",
      "stats-errphase =0.003\n",
      "stats-errphaseel =0.003\n",
      "stats-errphasebl =\n",
      "stats-errdoppler =10\n",
      "stats-stdbias =30\n",
      "stats-stdiono =0.03\n",
      "stats-stdtrop =0.6\n",
      "stats-prnaccelh =0.01\n",
      "stats-prnaccelv =0.001\n",
      "stats-prnbias =0.0001\n",
      "stats-prniono =0.001\n",
      "stats-prntrop =0.0001\n",
      "stats-clkstab =5e-12\n",
      "ant1-postype =single\n",
      "ant1-pos1 =0\n",
      "ant1-pos2 =0\n",
      "ant1-pos3 =0\n",
      "ant1-anttype =*\n",
      "ant1-antdele =0\n",
      "ant1-antdeln =0\n",
      "ant1-antdelu =0\n",
      "ant2-postype =posfile\n",
      "ant2-pos1 =0\n",
      "ant2-pos2 =0\n",
      "ant2-pos3 =0\n",
      "ant2-anttype =*\n",
      "ant2-antdele =0\n",
      "ant2-antdeln =0\n",
      "ant2-antdelu =0\n",
      "misc-timeinterp =on\n",
      "misc-sbasatsel =\n",
      "file-satantfile =/rtklib/data/igs05.atx\n",
      "file-rcvantfile =/rtklib/data/antenas.atx\n",
      "file-staposfile =/rtklib/data/ramsac.pos\n",
      "file-geoidfile =\n",
      "file-dcbfile =/rtklib/data/P1C1_ALL.DCB\n",
      "file-tempdir =\n",
      "file-geexefile =\n",
      "file-solstatfile =\n",
      "file-tracefile =\n"
     ]
    }
   ],
   "source": [
    "cat /proyecto/conf.cfg"
   ]
  },
  {
   "cell_type": "code",
   "execution_count": 31,
   "metadata": {},
   "outputs": [],
   "source": [
    "!mkdir -p sp3"
   ]
  },
  {
   "cell_type": "code",
   "execution_count": 32,
   "metadata": {},
   "outputs": [],
   "source": [
    "import urllib.request as urlreq"
   ]
  },
  {
   "cell_type": "code",
   "execution_count": 33,
   "metadata": {},
   "outputs": [],
   "source": [
    "import subprocess"
   ]
  },
  {
   "cell_type": "code",
   "execution_count": 34,
   "metadata": {},
   "outputs": [],
   "source": [
    "sp3files = []\n",
    "\n",
    "def saveSp3(w,d,folder='sp3'):\n",
    "    url = \"ftp://gssc.esa.int/gnss/products/{}/igs{}.sp3.Z\".format(w,d)\n",
    "    weburl = urlreq.urlopen(url)\n",
    "    data= weburl.read()\n",
    "    dest_path= \"{}/igs{}.sp3\".format(folder,d)\n",
    "    with open(dest_path,'bw') as f:\n",
    "        subprocess.run(\"gunzip\",input=data,stdout=f)\n",
    "    sp3files.append(dest_path)"
   ]
  },
  {
   "cell_type": "code",
   "execution_count": 35,
   "metadata": {},
   "outputs": [],
   "source": [
    "ini_time = toGpstkTime(datos['base'].times['start'])\n",
    "gpsday,*_ = !timeconvert --input-format=\"%Y,%m,%d,%H,%M,%S\" --input-time=\"{ini_time}\" -F \"%F %w\"\n",
    "\n",
    "ini_gpsw,ini_gpsdow = [int(i) for i in gpsday.split()]\n",
    "\n",
    "w = '{}'.format(ini_gpsw) \n",
    "d = '{}{}'.format(ini_gpsw,ini_gpsdow)\n",
    "saveSp3(w,d)\n",
    "\n",
    "if ini_gpsdow == 0:\n",
    "    w = '{}'.format(ini_gpsw-1) \n",
    "    d = '{}{}'.format(ini_gpsw-1,6)\n",
    "    saveSp3(w,d)\n",
    "    w = '{}'.format(ini_gpsw) \n",
    "    d = '{}{}'.format(ini_gpsw,1)\n",
    "    saveSp3(w,d)   \n",
    "elif ini_gpsdow == 6:\n",
    "    w = '{}'.format(ini_gpsw) \n",
    "    d = '{}{}'.format(ini_gpsw,5)\n",
    "    saveSp3(w,d)\n",
    "    w = '{}'.format(ini_gpsw) \n",
    "    d = '{}{}'.format(ini_gpsw+1,0)\n",
    "    saveSp3(w,d)\n",
    "else:\n",
    "    w = '{}'.format(ini_gpsw) \n",
    "    d = '{}{}'.format(ini_gpsw,ini_gpsdow+1)\n",
    "    saveSp3(w,d)\n",
    "    w = '{}'.format(ini_gpsw) \n",
    "    d = '{}{}'.format(ini_gpsw,ini_gpsdow-1)\n",
    "    saveSp3(w,d)   "
   ]
  },
  {
   "cell_type": "code",
   "execution_count": 36,
   "metadata": {},
   "outputs": [
    {
     "name": "stdout",
     "output_type": "stream",
     "text": [
      "rnx2rtkp -k proyecto/conf.cfg proyecto/pdop-cleaned/PFD10240.20o proyecto/igm10240.20o proyecto/igm10240.20n sp3/igs20894.sp3 sp3/igs20895.sp3 sp3/igs20896.sp3 -o proyecto/pdop-cleaned/sesiones/igm1-PFD1-0-fw.txt\n",
      "rnx2rtkp -b -k proyecto/conf.cfg proyecto/pdop-cleaned/PFD10240.20o proyecto/igm10240.20o proyecto/igm10240.20n sp3/igs20894.sp3 sp3/igs20895.sp3 sp3/igs20896.sp3 -o proyecto/pdop-cleaned/sesiones/igm1-PFD1-0-bw.txt\n",
      "rnx2rtkp -k proyecto/conf.cfg proyecto/splits/PFD10241.20o proyecto/igm10240.20o proyecto/igm10240.20n sp3/igs20894.sp3 sp3/igs20895.sp3 sp3/igs20896.sp3 -o proyecto/pdop-cleaned/sesiones/igm1-PFD1-1-fw.txt\n",
      "rnx2rtkp -b -k proyecto/conf.cfg proyecto/splits/PFD10241.20o proyecto/igm10240.20o proyecto/igm10240.20n sp3/igs20894.sp3 sp3/igs20895.sp3 sp3/igs20896.sp3 -o proyecto/pdop-cleaned/sesiones/igm1-PFD1-1-bw.txt\n",
      "rnx2rtkp -k proyecto/conf.cfg proyecto/splits/PFD10242.20o proyecto/igm10240.20o proyecto/igm10240.20n sp3/igs20894.sp3 sp3/igs20895.sp3 sp3/igs20896.sp3 -o proyecto/pdop-cleaned/sesiones/igm1-PFD1-2-fw.txt\n",
      "rnx2rtkp -b -k proyecto/conf.cfg proyecto/splits/PFD10242.20o proyecto/igm10240.20o proyecto/igm10240.20n sp3/igs20894.sp3 sp3/igs20895.sp3 sp3/igs20896.sp3 -o proyecto/pdop-cleaned/sesiones/igm1-PFD1-2-bw.txt\n",
      "                                        \r"
     ]
    },
    {
     "data": {
      "text/plain": [
       "True"
      ]
     },
     "execution_count": 36,
     "metadata": {},
     "output_type": "execute_result"
    }
   ],
   "source": [
    "datos['pie'].process(datos['base'],'proyecto/conf.cfg',sp3=sp3files,nav=REFNAV)"
   ]
  },
  {
   "cell_type": "code",
   "execution_count": 37,
   "metadata": {},
   "outputs": [
    {
     "data": {
      "text/plain": [
       "True"
      ]
     },
     "execution_count": 37,
     "metadata": {},
     "output_type": "execute_result"
    }
   ],
   "source": [
    "datos['pie'].reloadProcesed()"
   ]
  },
  {
   "cell_type": "code",
   "execution_count": 38,
   "metadata": {},
   "outputs": [
    {
     "data": {
      "text/plain": [
       "dict_keys(['0-fw', '0-bw', '1-fw', '1-bw', '2-fw', '2-bw'])"
      ]
     },
     "execution_count": 38,
     "metadata": {},
     "output_type": "execute_result"
    }
   ],
   "source": [
    "datos['pie'].sessData.keys()"
   ]
  },
  {
   "cell_type": "code",
   "execution_count": 46,
   "metadata": {},
   "outputs": [],
   "source": [
    "def plot_latitude(sess, ax=None,filtro=lambda x: x.iloc[len(x)//2:],**kwargs):\n",
    "    if ax is None:\n",
    "        fig,ax = plt.subplots()\n",
    "    filtro(sess.latitude * DEG2RAD * 6.4e6).plot(ax=ax,**kwargs)\n",
    "    return ax\n",
    "\n",
    "def plot_longitude(sess, ax=None,filtro=lambda x: x.iloc[len(x)//2:],**kwargs):\n",
    "    reflat = sess.latitude.median()\n",
    "    cosreflat = cos(reflat * DEG2RAD)\n",
    "\n",
    "    if ax is None:\n",
    "        fig,ax = plt.subplots()\n",
    "    \n",
    "    filtro(sess.longitude * DEG2RAD * cosreflat * 6.4e6).plot(ax=ax,**kwargs)\n",
    "    return ax\n",
    "\n",
    "def plot_height(sess, ax=None,filtro=lambda x: x.iloc[len(x)//2:],**kwargs):\n",
    "\n",
    "    if ax is None:\n",
    "        fig,ax = plt.subplots()\n",
    "    \n",
    "    filtro(sess.height).plot(ax=ax,**kwargs)\n",
    "    return ax\n",
    "\n",
    "def plot_track(sess, ax=None,filtro=lambda x: x.iloc[len(x)//2:],**kwargs):\n",
    "    reflat = sess.latitude.median()\n",
    "    cosreflat = cos(reflat * DEG2RAD)\n",
    "\n",
    "    if ax is None:\n",
    "        fig,ax = plt.subplots()\n",
    "    \n",
    "    ax.plot(filtro(sess).longitude * DEG2RAD * cosreflat * 6.4e6,\n",
    "             filtro(sess).latitude * DEG2RAD * 6.4e6,**kwargs)\n",
    "\n",
    "    ax.set_aspect('equal')\n",
    "    return ax\n",
    "\n",
    "def plot_last(sess, ax=None,filtro=lambda x: x.iloc[len(x)//2:],**kwargs):\n",
    "    reflat = sess.latitude.median()\n",
    "    cosreflat = cos(reflat * DEG2RAD)\n",
    "\n",
    "    if ax is None:\n",
    "        fig,ax = plt.subplots()\n",
    "    \n",
    "    ax.plot(sess.longitude[-1] * DEG2RAD * cosreflat * 6.4e6,\n",
    "            sess.latitude[-1] * DEG2RAD * 6.4e6,**kwargs)\n",
    "    \n",
    "    ax.set_aspect('equal')\n",
    "    return ax\n",
    "\n",
    "def plot_tracks(sessions,filtro=lambda x: x.iloc[len(x)//2:]):\n",
    "    fig,ax = plt.subplots()\n",
    "    for sess,mk1,mk2 in zip(sessions,cycle(['x','.','^']),cycle(['>','o','^'])):\n",
    "        plot_track(sess,ax=ax,filtro=filtro,marker=mk1,alpha=0.05)\n",
    "        plot_last(sess,ax=ax,marker=mk2,markersize=15)\n",
    "\n",
    "    plt.show()\n",
    "    "
   ]
  },
  {
   "cell_type": "code",
   "execution_count": 47,
   "metadata": {},
   "outputs": [
    {
     "data": {
      "image/png": "[encoded data removed]",
      "text/plain": [
       "<Figure size 432x288 with 1 Axes>"
      ]
     },
     "metadata": {
      "needs_background": "light"
     },
     "output_type": "display_data"
    }
   ],
   "source": [
    "plot_tracks(datos['pie'].sessData.values(),filtro=lambda x: x.iloc[len(x)*3//4:])"
   ]
  },
  {
   "cell_type": "code",
   "execution_count": 64,
   "metadata": {},
   "outputs": [
    {
     "data": {
      "image/png": "[encoded data removed]",
      "text/plain": [
       "<Figure size 1080x216 with 3 Axes>"
      ]
     },
     "metadata": {
      "needs_background": "light"
     },
     "output_type": "display_data"
    }
   ],
   "source": [
    "fig, ax = plt.subplots(1,3,figsize=(15,3))\n",
    "\n",
    "ax1,ax2,ax3 = ax.flatten()\n",
    "\n",
    "for k,s in datos['pie'].sessData.items():\n",
    "    plot_latitude(s,label=k,ax=ax1)\n",
    "    plot_longitude(s,label=k,ax=ax2)\n",
    "    plot_height(s,label=k,ax=ax3)\n",
    "ax1.legend()\n",
    "ax2.legend()\n",
    "ax3.legend()\n",
    "plt.show()"
   ]
  },
  {
   "cell_type": "code",
   "execution_count": 278,
   "metadata": {},
   "outputs": [],
   "source": [
    "PFD1_A = pd.Series({'latitud':sessA.latitude[-1],'longitud':sessA.longitude[-1],'altura':sessA.height[-1]})\n",
    "PFD1_B = pd.Series({'latitud':sessB.latitude[-1],'longitud':sessB.longitude[-1],'altura':sessB.height[-1]})\n",
    "PFD1_C = pd.Series({'latitud':sessC.latitude[-1],'longitud':sessC.longitude[-1],'altura':sessC.height[-1]})"
   ]
  },
  {
   "cell_type": "code",
   "execution_count": 279,
   "metadata": {},
   "outputs": [
    {
     "name": "stdout",
     "output_type": "stream",
     "text": [
      "6925680.709\t3209257.567 36.2262\n",
      "6925680.747\t3209257.603 36.2989\n",
      "6925680.737\t3209257.595 36.2975\n"
     ]
    }
   ],
   "source": [
    "sesiones_string = \\\n",
    "\"\"\"\n",
    "{latitud} {longitud} {altura}\"\"\".format(**PFD1_A) +\\\n",
    "\"\"\"\n",
    "{latitud} {longitud} {altura}\"\"\".format(**PFD1_B) +\\\n",
    "\"\"\"\n",
    "{latitud} {longitud} {altura}\"\"\".format(**PFD1_C) +\\\n",
    "\"\"\"\n",
    "EOF\n",
    "\"\"\"\n",
    "\n",
    "!proj -f %.3f +proj=tmerc +ellps=GRS80 +lat_0=-90 +lon_0=-60 +x_0=5500000 +no_defs << EOF $sesiones_string"
   ]
  },
  {
   "cell_type": "code",
   "execution_count": 280,
   "metadata": {},
   "outputs": [],
   "source": [
    "PFD1_Ab = pd.Series({'latitud':sessAb.latitude[-1],'longitud':sessAb.longitude[-1],'altura':sessAb.height[-1]})\n",
    "PFD1_Bb = pd.Series({'latitud':sessBb.latitude[-1],'longitud':sessBb.longitude[-1],'altura':sessBb.height[-1]})\n",
    "PFD1_Cb = pd.Series({'latitud':sessCb.latitude[-1],'longitud':sessCb.longitude[-1],'altura':sessCb.height[-1]})"
   ]
  },
  {
   "cell_type": "code",
   "execution_count": 281,
   "metadata": {},
   "outputs": [
    {
     "name": "stdout",
     "output_type": "stream",
     "text": [
      "6925680.703\t3209257.564 36.2605\n",
      "6925680.741\t3209257.601 36.2444\n",
      "6925680.712\t3209257.570 36.2387\n"
     ]
    }
   ],
   "source": [
    "sesiones_string = \\\n",
    "\"\"\"\n",
    "{latitud} {longitud} {altura}\"\"\".format(**PFD1_Ab) +\\\n",
    "\"\"\"\n",
    "{latitud} {longitud} {altura}\"\"\".format(**PFD1_Bb) +\\\n",
    "\"\"\"\n",
    "{latitud} {longitud} {altura}\"\"\".format(**PFD1_Cb) +\\\n",
    "\"\"\"\n",
    "EOF\n",
    "\"\"\"\n",
    "\n",
    "!proj -f %.3f +proj=tmerc +ellps=GRS80 +lat_0=-90 +lon_0=-60 +x_0=5500000 +no_defs << EOF $sesiones_string"
   ]
  },
  {
   "cell_type": "code",
   "execution_count": 282,
   "metadata": {},
   "outputs": [
    {
     "name": "stdout",
     "output_type": "stream",
     "text": [
      "-34.954150491  -58.792189346    36.297  PFD1  PFD1\n"
     ]
    }
   ],
   "source": [
    "print('{latitud:13.9f} {longitud:14.9f} {altura:9.3f}  PFD1  PFD1'.format(**PFD1_C))"
   ]
  },
  {
   "cell_type": "code",
   "execution_count": 283,
   "metadata": {},
   "outputs": [],
   "source": [
    "with open('/rtklib/data/ramsac.pos','a+') as f:\n",
    "    print('{latitud:13.9f} {longitud:14.9f} {altura:9.3f}  PFD1  PFD1'.format(**PFD1_C),file=f)"
   ]
  },
  {
   "cell_type": "markdown",
   "metadata": {},
   "source": [
    "# Vector de Orientación"
   ]
  },
  {
   "cell_type": "code",
   "execution_count": 284,
   "metadata": {},
   "outputs": [],
   "source": [
    "try:\n",
    "    with open('/proyecto/conf2.cfg','r') as f:\n",
    "        confs = {i.strip():j.strip() for i,j in [k.split('=') for k in f.readlines()]}\n",
    "\n",
    "        for i in pyconf.formulario.children:\n",
    "            try:\n",
    "                if i.description == 'pos1-navsys':\n",
    "                    continue\n",
    "\n",
    "                opts = [j.split(':')[1] for j in i.options]\n",
    "                optsn = [j.split(':')[0] for j in i.options]\n",
    "\n",
    "                if (val := confs[i.description]) in opts:\n",
    "                    i.value = i.options[opts.index(val)]\n",
    "                elif (val := confs[i.description]) in optsn:\n",
    "                    i.value = i.options[optsn.index(val)]\n",
    "            except AttributeError:\n",
    "                if isinstance(i.value,int):\n",
    "                    if confs[i.description] == '':\n",
    "                        i.value = -1\n",
    "                    else:\n",
    "                        i.value = int(confs[i.description])\n",
    "                elif isinstance(i.value,str):\n",
    "                    i.value = confs[i.description]\n",
    "                elif isinstance(i.value,float):\n",
    "                    i.value = float(confs[i.description])\n",
    "                    if confs[i.description] == '':\n",
    "                        i.value = -1\n",
    "except FileNotFoundError:\n",
    "    pass"
   ]
  },
  {
   "cell_type": "code",
   "execution_count": 285,
   "metadata": {},
   "outputs": [
    {
     "data": {
      "application/vnd.jupyter.widget-view+json": {
       "model_id": "2d892acd951f43dc88501dccdc8decdb",
       "version_major": 2,
       "version_minor": 0
      },
      "text/plain": [
       "GridspecLayout(children=(Dropdown(description='pos1-posmode', index=3, layout=Layout(grid_area='widget001'), o…"
      ]
     },
     "metadata": {},
     "output_type": "display_data"
    }
   ],
   "source": [
    "pyconf.formulario"
   ]
  },
  {
   "cell_type": "code",
   "execution_count": 286,
   "metadata": {},
   "outputs": [],
   "source": [
    "import numbers\n",
    "\n",
    "with open('/proyecto/conf2.cfg','w') as f:\n",
    "    for i in pyconf.formulario.children:\n",
    "        try:\n",
    "            if isinstance(i.value, (list, tuple)):\n",
    "                value = sum([int(v.split(':')[0]) for v in i.value if v.split(':')[0] != ''])\n",
    "            else:\n",
    "                value = i.value.split(':')[-1]\n",
    "                \n",
    "            try:\n",
    "                if int(value) < 0: # -1 is blank\n",
    "                    value = ''\n",
    "            except ValueError:\n",
    "                pass\n",
    "            \n",
    "        except AttributeError:\n",
    "            value = i.value\n",
    "            try:\n",
    "                if int(value) < 0: # -1 is blank\n",
    "                    value = ''\n",
    "            except ValueError:\n",
    "                pass\n",
    "\n",
    "        print('{} ={}'.format(i.description,value),file=f)"
   ]
  },
  {
   "cell_type": "code",
   "execution_count": 287,
   "metadata": {},
   "outputs": [
    {
     "name": "stdout",
     "output_type": "stream",
     "text": [
      "# RinSum, part of the GPS Toolkit, Ver 4.1 8/26/15, Run 2021/04/05 20:34:37\n",
      "+++++++++++++ RinSum summary of Rinex obs file /proyecto/PFD20240.20o +++++++++++++\n",
      "---------------------------------- REQUIRED ----------------------------------\n",
      "Rinex Version  2.11,  File type O,  System G (GPS).\n",
      "Prgm: JJC Open Gps Read,  Run: 22 - OCT - 20 21:16,  By: Javier Clavijo\n",
      "Marker name: PFD2, Marker type: .\n",
      "Observer : Raul Clavijo,  Agency: RyJClavijo\n",
      "Rec#: 3E302069,  Type: PromarkXCM,  Vers: \n",
      "Antenna # : 200721052,  Type : NAP100\n",
      "Position      (XYZ,m) : (0.0000, 0.0000, 0.0000).\n",
      "Antenna Delta (HEN,m) : (1.4990, 0.0000, 0.0000).\n",
      "GPS Observation types (3):\n",
      " Type #01 (L1C) L1 GPSC/A phase\n",
      " Type #02 (C1C) L1 GPSC/A pseudorange\n",
      " Type #03 (D1C) L1 GPSC/A doppler\n",
      "R2ObsTypes: L1 C1 D1 \n",
      "mapSysR2toR3ObsID[G] C1:C1C D1:D1C L1:L1C \n",
      "Time of first obs 2020/01/24 19:37:31.000 GPS\n",
      "(This header is VALID)\n",
      "---------------------------------- OPTIONAL ----------------------------------\n",
      "Signal Strenth Unit = \n",
      "Interval =   1.000\n",
      "Time of Last Obs 2020/01/25 00:21:47.000 GPS\n",
      "Wavelength factor L1: 1 L2: 0\n",
      "Number of Satellites with data : 3\n",
      " PRN and number of observations for each obs type:\n",
      " GPS     L1C    C1C    D1C\n",
      " G01   17050  17050  17050\n",
      " G03   15742  15742  15742\n",
      " G04   11903  11903  11903\n",
      " G06    1223   1223   1223\n",
      " G07     263    263    263\n",
      " G08    9538   9538   9538\n",
      " G09    7444   7444   7444\n",
      " G10    5098   5098   5098\n",
      " G11   15784  15784  15784\n",
      " G14   13262  13262  13262\n",
      " G16     143    143    143\n",
      " G17    6922   6922   6922\n",
      " G19    3435   3435   3435\n",
      " G20     291    291    291\n",
      " G22   17050  17050  17050\n",
      " G23   10708  10708  10708\n",
      " G26     743    743    743\n",
      " G27    6173   6173   6173\n",
      " G31   13711  13711  13711\n",
      " G32    9296   9296   9296\n",
      "-------------------------------- END OF HEADER --------------------------------\n",
      "\n",
      "Reading the observation data...\n",
      "Computed interval  1.00 seconds.\n",
      "Computed first epoch: 2020/01/24 19:37:31 = 2089 5 502651.000 GPS\n",
      "Computed last  epoch: 2020/01/25 00:21:47 = 2089 6 519707.000 GPS\n",
      "Computed time span: 4h 44m 16s = 17056 seconds.\n",
      "There were 17057 epochs (100.00% of 17057 possible epochs in this timespan) and 0 inline header blocks.\n",
      "\n",
      "      Summary of data available in this file: (Spans are based on times and interval)\n",
      "System G = GPS:\n",
      " Sat\\OT: L1C    C1C    D1C   Span             Begin time - End time\n",
      " G01   17050  17050  17050  17057  2020/01/24 19:37:31 - 2020/01/25 00:21:47\n",
      " G03   15742  15742  15742  15749  2020/01/24 19:59:19 - 2020/01/25 00:21:47\n",
      " G04   11902  11903  11903  11910  2020/01/24 21:03:18 - 2020/01/25 00:21:47\n",
      " G06    1222   1223   1223   1230  2020/01/25 00:01:18 - 2020/01/25 00:21:47\n",
      " G07     263    263    263    269  2020/01/25 00:17:19 - 2020/01/25 00:21:47\n",
      " G08    9487   9538   9538   9538  2020/01/24 19:37:31 - 2020/01/24 22:16:28\n",
      " G09    7443   7444   7444   7452  2020/01/24 22:17:36 - 2020/01/25 00:21:47\n",
      " G10    5098   5098   5098   5098  2020/01/24 19:37:31 - 2020/01/24 21:02:28\n",
      " G11   15784  15784  15784  15784  2020/01/24 19:37:31 - 2020/01/25 00:00:34\n",
      " G14   13262  13262  13262  13262  2020/01/24 19:37:31 - 2020/01/24 23:18:32\n",
      " G16     143    143    143    149  2020/01/25 00:19:19 - 2020/01/25 00:21:47\n",
      " G17    6921   6922   6922   6923  2020/01/24 22:13:12 - 2020/01/25 00:08:34\n",
      " G19    3435   3435   3435   3436  2020/01/24 23:19:18 - 2020/01/25 00:16:33\n",
      " G20     291    291    291    291  2020/01/24 19:37:31 - 2020/01/24 19:42:21\n",
      " G22   17050  17050  17050  17057  2020/01/24 19:37:31 - 2020/01/25 00:21:47\n",
      " G23   10708  10708  10708  10716  2020/01/24 21:23:12 - 2020/01/25 00:21:47\n",
      " G26     742    743    743    749  2020/01/25 00:09:19 - 2020/01/25 00:21:47\n",
      " G27    6159   6173   6173   6173  2020/01/24 19:37:31 - 2020/01/24 21:20:23\n",
      " G31   13675  13711  13711  14355  2020/01/24 20:19:19 - 2020/01/25 00:18:33\n",
      " G32    9296   9296   9296   9296  2020/01/24 19:37:31 - 2020/01/24 22:12:26\n",
      "TOTAL 165673 165779 165779\n",
      "\n",
      "RinSum timing: processing 0.504 sec, wallclock: 1 sec.\n"
     ]
    }
   ],
   "source": [
    "rinex_info2 = !RinSum /proyecto/PFD20240.20o\n",
    "print('\\n'.join(rinex_info2))"
   ]
  },
  {
   "cell_type": "code",
   "execution_count": 44,
   "metadata": {},
   "outputs": [
    {
     "name": "stdout",
     "output_type": "stream",
     "text": [
      "Epoca inicial:  ('2020', '01', '24', '19', '37', '31')\n",
      "Epoca final:  ('2020', '01', '25', '00', '21', '47')\n"
     ]
    }
   ],
   "source": [
    "for i in rinex_info2:\n",
    "    if m := re.match(r'.*first\\s+epoch:\\s+(\\d+).(\\d+).(\\d+).*?(\\d+).(\\d+).(\\d+).*',i):\n",
    "        ini_time2 = totime((int(i) for i in m.groups()))\n",
    "        print('Epoca inicial: ',m.groups())\n",
    "    if m := re.match(r'.*last\\s+epoch:\\s+(\\d+).(\\d+).(\\d+).*?(\\d+).(\\d+).(\\d+).*',i):\n",
    "        end_time2 = totime((int(i) for i in m.groups()))\n",
    "        print('Epoca final: ',m.groups())"
   ]
  },
  {
   "cell_type": "code",
   "execution_count": 288,
   "metadata": {},
   "outputs": [],
   "source": [
    "punto = datos['azimut'].p1path\n",
    "base =  datos['pie'].path\n",
    "#nav = '{}/{}'.format(FILEFLD,splitfiles[0][0])[:-1] + 'n'\n",
    "#eph = '{} {} {}'.format(*set(sp3files))"
   ]
  },
  {
   "cell_type": "code",
   "execution_count": 289,
   "metadata": {},
   "outputs": [
    {
     "name": "stdout",
     "output_type": "stream",
     "text": [
      "rnx2rtkp -k proyecto/conf2.cfg proyecto/splits/PFD20241.20o.clean proyecto/PFD10240.20o.clean proyecto/igm10240.20n sp3/igs20896.sp3 sp3/igs20895.sp3 sp3/igs20894.sp3 -o Sesion2A.txt\n",
      "rnx2rtkp -b -k proyecto/conf2.cfg proyecto/splits/PFD20241.20o.clean proyecto/PFD10240.20o.clean proyecto/igm10240.20n sp3/igs20896.sp3 sp3/igs20895.sp3 sp3/igs20894.sp3 -o Sesion2A-b.txt\n",
      "                                        \r"
     ]
    }
   ],
   "source": [
    "!echo rnx2rtkp -k {FILEFLD}/conf2.cfg {punto} {base} {nav} {eph} -o Sesion2A.txt\n",
    "!rnx2rtkp -k {FILEFLD}/conf2.cfg {punto} {base} {nav} {eph} -o Sesion2A.txt\n",
    "\n",
    "!echo rnx2rtkp -b -k {FILEFLD}/conf2.cfg {punto} {base} {nav} {eph} -o Sesion2A-b.txt\n",
    "!rnx2rtkp -b -k {FILEFLD}/conf2.cfg {punto} {base} {nav} {eph} -o Sesion2A-b.txt"
   ]
  },
  {
   "cell_type": "code",
   "execution_count": 290,
   "metadata": {},
   "outputs": [],
   "source": [
    "punto = datos['azimut'].p2path"
   ]
  },
  {
   "cell_type": "code",
   "execution_count": 291,
   "metadata": {},
   "outputs": [
    {
     "name": "stdout",
     "output_type": "stream",
     "text": [
      "rnx2rtkp -k proyecto/conf2.cfg proyecto/splits/PFD20242.20o.clean proyecto/PFD10240.20o.clean proyecto/igm10240.20n sp3/igs20896.sp3 sp3/igs20895.sp3 sp3/igs20894.sp3 -o Sesion2B.txt\n",
      "rnx2rtkp -b -k proyecto/conf2.cfg proyecto/splits/PFD20242.20o.clean proyecto/PFD10240.20o.clean proyecto/igm10240.20n sp3/igs20896.sp3 sp3/igs20895.sp3 sp3/igs20894.sp3 -o Sesion2B-b.txt\n",
      "                                        \r"
     ]
    }
   ],
   "source": [
    "!echo rnx2rtkp -k {FILEFLD}/conf2.cfg {punto} {base} {nav} {eph} -o Sesion2B.txt\n",
    "!rnx2rtkp -k {FILEFLD}/conf2.cfg {punto} {base} {nav} {eph} -o Sesion2B.txt\n",
    "\n",
    "!echo rnx2rtkp -b -k {FILEFLD}/conf2.cfg {punto} {base} {nav} {eph} -o Sesion2B-b.txt\n",
    "!rnx2rtkp -b -k {FILEFLD}/conf2.cfg {punto} {base} {nav} {eph} -o Sesion2B-b.txt"
   ]
  },
  {
   "cell_type": "code",
   "execution_count": 292,
   "metadata": {},
   "outputs": [],
   "source": [
    "punto = datos['azimut'].path"
   ]
  },
  {
   "cell_type": "code",
   "execution_count": 293,
   "metadata": {},
   "outputs": [
    {
     "name": "stdout",
     "output_type": "stream",
     "text": [
      "rnx2rtkp -k proyecto/conf2.cfg proyecto/PFD20240.20o.clean proyecto/PFD10240.20o.clean proyecto/igm10240.20n sp3/igs20896.sp3 sp3/igs20895.sp3 sp3/igs20894.sp3 -o Sesion2C.txt\n",
      "rnx2rtkp -b -k proyecto/conf2.cfg proyecto/PFD20240.20o.clean proyecto/PFD10240.20o.clean proyecto/igm10240.20n sp3/igs20896.sp3 sp3/igs20895.sp3 sp3/igs20894.sp3 -o Sesion2C-b.txt\n",
      "                                        \r"
     ]
    }
   ],
   "source": [
    "!echo rnx2rtkp -k {FILEFLD}/conf2.cfg {punto} {base} {nav} {eph} -o Sesion2C.txt\n",
    "!rnx2rtkp -k {FILEFLD}/conf2.cfg {punto} {base} {nav} {eph} -o Sesion2C.txt\n",
    "\n",
    "!echo rnx2rtkp -b -k {FILEFLD}/conf2.cfg {punto} {base} {nav} {eph} -o Sesion2C-b.txt\n",
    "!rnx2rtkp -b -k {FILEFLD}/conf2.cfg {punto} {base} {nav} {eph} -o Sesion2C-b.txt"
   ]
  },
  {
   "cell_type": "code",
   "execution_count": 294,
   "metadata": {},
   "outputs": [],
   "source": [
    "sess2A = pd.read_fwf('Sesion2A.txt',comment='%',names=cols,index=None)\n",
    "sess2A = sess2A.set_index((sess2A.date + 'T' + sess2A.GPST).map(lambda x: np.datetime64(x.replace('/','-'))))\n",
    "sess2B = pd.read_fwf('Sesion2B.txt',comment='%',names=cols,index=None)\n",
    "sess2B = sess2B.set_index((sess2B.date + 'T' + sess2B.GPST).map(lambda x: np.datetime64(x.replace('/','-'))))\n",
    "sess2C = pd.read_fwf('Sesion2C.txt',comment='%',names=cols,index=None)\n",
    "sess2C = sess2C.set_index((sess2C.date + 'T' + sess2C.GPST).map(lambda x: np.datetime64(x.replace('/','-'))))"
   ]
  },
  {
   "cell_type": "code",
   "execution_count": 295,
   "metadata": {},
   "outputs": [
    {
     "name": "stdout",
     "output_type": "stream",
     "text": [
      "session2A:-34.945944384,session2B:-34.945944346,session2C:-34.945944374\n"
     ]
    },
    {
     "data": {
      "image/png": "[encoded data removed]",
      "text/plain": [
       "<Figure size 432x288 with 1 Axes>"
      ]
     },
     "metadata": {
      "needs_background": "light"
     },
     "output_type": "display_data"
    }
   ],
   "source": [
    "fig,ax = plt.subplots()\n",
    "ax.plot(sess2A.index,(sess2A.latitude * DEG2RAD * 6.4e6).values)\n",
    "ax.plot(sess2B.index,(sess2B.latitude * DEG2RAD * 6.4e6).values)\n",
    "ax.plot(sess2C.index,(sess2C.latitude * DEG2RAD * 6.4e6).values)\n",
    "\n",
    "print('session2A:{},session2B:{},session2C:{}'.format(*[i.latitude.median() for i in (sess2A,sess2B,sess2C)]))\n",
    "\n",
    "plt.show()"
   ]
  },
  {
   "cell_type": "code",
   "execution_count": 296,
   "metadata": {},
   "outputs": [
    {
     "name": "stdout",
     "output_type": "stream",
     "text": [
      "session2A:-58.78297562,session2B:-58.782975571,session2C:-58.782975603\n"
     ]
    },
    {
     "data": {
      "image/png": "[encoded data removed]",
      "text/plain": [
       "<Figure size 432x288 with 1 Axes>"
      ]
     },
     "metadata": {
      "needs_background": "light"
     },
     "output_type": "display_data"
    }
   ],
   "source": [
    "reflat = sess2A.latitude.median()\n",
    "cosreflat = cos(reflat * DEG2RAD)\n",
    "\n",
    "(sess2A.longitude * DEG2RAD * cosreflat * 6.4e6).plot()\n",
    "(sess2B.longitude * DEG2RAD * cosreflat * 6.4e6).plot()\n",
    "(sess2C.longitude * DEG2RAD * cosreflat * 6.4e6).plot()\n",
    "\n",
    "print('session2A:{},session2B:{},session2C:{}'.format(*[i.longitude.median() for i in (sess2A,sess2B,sess2C)]))\n",
    "\n",
    "plt.show()"
   ]
  },
  {
   "cell_type": "code",
   "execution_count": 297,
   "metadata": {},
   "outputs": [
    {
     "name": "stdout",
     "output_type": "stream",
     "text": [
      "session2A:40.2931,session2B:40.2798,session2C:40.2869\n"
     ]
    },
    {
     "data": {
      "image/png": "[encoded data removed]",
      "text/plain": [
       "<Figure size 432x288 with 1 Axes>"
      ]
     },
     "metadata": {
      "needs_background": "light"
     },
     "output_type": "display_data"
    }
   ],
   "source": [
    "fig,ax = plt.subplots()\n",
    "ax.plot(sess2A.index,(sess2A.height).values)\n",
    "ax.plot(sess2B.index,(sess2B.height).values)\n",
    "ax.plot(sess2C.index,(sess2C.height).values)\n",
    "\n",
    "print('session2A:{},session2B:{},session2C:{}'.format(*[i.height.median() for i in (sess2A,sess2B,sess2C)]))\n",
    "\n",
    "plt.show()"
   ]
  },
  {
   "cell_type": "code",
   "execution_count": 298,
   "metadata": {},
   "outputs": [],
   "source": [
    "PFD2_A = pd.Series({'latitud':sess2A.latitude[-1],'longitud':sess2A.longitude[-1],'altura':sess2A.height[-1]})\n",
    "PFD2_B = pd.Series({'latitud':sess2B.latitude[-1],'longitud':sess2B.longitude[-1],'altura':sess2B.height[-1]})\n",
    "PFD2_C = pd.Series({'latitud':sess2C.latitude[-1],'longitud':sess2C.longitude[-1],'altura':sess2C.height[-1]})"
   ]
  },
  {
   "cell_type": "code",
   "execution_count": 299,
   "metadata": {},
   "outputs": [
    {
     "name": "stdout",
     "output_type": "stream",
     "text": [
      "5611175.841\t6132693.366 40.2932\n",
      "5611175.843\t6132693.372 40.2886\n",
      "5611175.841\t6132693.368 40.2915\n"
     ]
    }
   ],
   "source": [
    "sesiones_string = \\\n",
    "\"\"\"\n",
    "{longitud} {latitud} {altura}\"\"\".format(**PFD2_A) +\\\n",
    "\"\"\"\n",
    "{longitud} {latitud} {altura}\"\"\".format(**PFD2_B) +\\\n",
    "\"\"\"\n",
    "{longitud} {latitud} {altura}\"\"\".format(**PFD2_C) +\\\n",
    "\"\"\"\n",
    "EOF\n",
    "\"\"\"\n",
    "\n",
    "!proj -f %.3f +proj=tmerc +ellps=GRS80 +lat_0=-90 +lon_0=-60 +x_0=5500000 +no_defs << EOF $sesiones_string"
   ]
  },
  {
   "cell_type": "code",
   "execution_count": 300,
   "metadata": {},
   "outputs": [
    {
     "name": "stdout",
     "output_type": "stream",
     "text": [
      "-34.945944383  -58.782975620    40.293\n"
     ]
    }
   ],
   "source": [
    "print('{latitud:13.9f} {longitud:14.9f} {altura:9.3f}'.format(**PFD2_A))"
   ]
  },
  {
   "cell_type": "markdown",
   "metadata": {},
   "source": [
    "# Antenas:\n",
    "\n",
    "https://www.ngs.noaa.gov/ANTCAL/LoadFile?file=ASH110454_NONE.atx\n",
    "\n",
    "https://kb.igs.org/hc/en-us/articles/216104678-ANTEX-format-description\n",
    "\n",
    "\n",
    "```      \n",
    "                                                            START OF ANTENNA    \n",
    "NAP100          NONE                                        TYPE / SERIAL NO    \n",
    "FIELD               JJC                      0    02-DIC-20 METH / BY / # / DATE\n",
    "     0.0                                                    DAZI                \n",
    "     0.0  80.0   5.0                                        ZEN1 / ZEN2 / DZEN  \n",
    "     1                                                      # OF FREQUENCIES    \n",
    "CONVERTED FROM RELATIVE NGS ANTENNA CALIBRATIONS            COMMENT             \n",
    "   G01                                                      START OF FREQUENCY  \n",
    "      0.00      0.00     73.00                              NORTH / EAST / UP   \n",
    "   G01                                                      END OF FREQUENCY    \n",
    "                                                            END OF ANTENNA      \n",
    "```      \n",
    "                                                            \n",
    "\n"
   ]
  },
  {
   "cell_type": "code",
   "execution_count": null,
   "metadata": {},
   "outputs": [],
   "source": []
  }
 ],
 "metadata": {
  "kernelspec": {
   "display_name": "Python 3",
   "language": "python",
   "name": "python3"
  },
  "language_info": {
   "codemirror_mode": {
    "name": "ipython",
    "version": 3
   },
   "file_extension": ".py",
   "mimetype": "text/x-python",
   "name": "python",
   "nbconvert_exporter": "python",
   "pygments_lexer": "ipython3",
   "version": "3.9.2"
  }
 },
 "nbformat": 4,
 "nbformat_minor": 4
}
