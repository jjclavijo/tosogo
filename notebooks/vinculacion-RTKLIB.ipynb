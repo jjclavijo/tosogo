{
 "cells": [
  {
   "cell_type": "code",
   "execution_count": 1,
   "metadata": {},
   "outputs": [],
   "source": [
    "#!ln -s /proyecto"
   ]
  },
  {
   "cell_type": "markdown",
   "metadata": {},
   "source": [
    "# Memoria de Relevamiento\n",
    "\n",
    "Se midieron con equipos GPS de simple frecuencia dos puntos que se denominaron\n",
    "PFD1 y PFD2, y se vincularon a la estación permanente IGM1. En este apartado\n",
    "se describe el procesamiento GPS, incluyendo la salida del programa de procesamiento. "
   ]
  },
  {
   "cell_type": "markdown",
   "metadata": {},
   "source": [
    "## Archivos de medición\n",
    "\n",
    "Los archivos de medición se incluyen en formato Rinex 2.11, como\n",
    "\n",
    "```\n",
    "proyecto/PFD10240.20o\n",
    "proyecto/PFD20240.20o\n",
    "```\n",
    "\n",
    "El archivo de medición de la estación IGM1 se obtuvo de la web del IGN, se incluye como\n",
    "\n",
    "```\n",
    "proyecto/igm10240.20o\n",
    "```"
   ]
  },
  {
   "cell_type": "markdown",
   "metadata": {},
   "source": [
    "## Datos de Sesion.\n",
    "\n",
    "Los datos de la sesión, extraidos de los archivos de medición,\n",
    "se completan en los anexos 4.1 que se adjuntan.\n",
    "\n",
    "Se incluye también el anexo 4 con datos generales del trabajo."
   ]
  },
  {
   "cell_type": "code",
   "execution_count": 2,
   "metadata": {},
   "outputs": [],
   "source": [
    "FILEFLD = 'proyecto'\n",
    "BASE = 'igm10240.20o'\n",
    "PIE = 'PFD10240.20o'\n",
    "AZIMUT = 'PFD20240.20o'"
   ]
  },
  {
   "cell_type": "markdown",
   "metadata": {},
   "source": [
    "# Creación de Archivos de Sesiones\n",
    "\n",
    "Se crean archivos para las dos sesiones de cada vector, Cortando los archivos \n",
    "con la herramienta RinEdit, del paquete GPSTk. Los tiempos se extraen también con\n",
    "la herramienta RinSum, del paquete GPSTk"
   ]
  },
  {
   "cell_type": "code",
   "execution_count": 3,
   "metadata": {},
   "outputs": [],
   "source": [
    "import fillforms\n",
    "import os.path"
   ]
  },
  {
   "cell_type": "code",
   "execution_count": 4,
   "metadata": {},
   "outputs": [],
   "source": [
    "import numbers\n",
    "import pandas as pd\n",
    "from math import cos\n",
    "import re\n",
    "import numpy as np\n",
    "from datetime import datetime\n",
    "import matplotlib.pyplot as plt\n",
    "\n",
    "import pyconf\n",
    "\n",
    "DEG2RAD = 3.14159 / 180\n",
    "\n",
    "totime = lambda x: np.datetime64(datetime(*x))"
   ]
  },
  {
   "cell_type": "code",
   "execution_count": 5,
   "metadata": {},
   "outputs": [],
   "source": [
    "rinex_info = []\n",
    "\n",
    "for i in [BASE, PIE, AZIMUT]:\n",
    "    archivo = os.path.join(FILEFLD,i)\n",
    "    sumario = !RinSum {archivo}\n",
    "    rinex_info.append((archivo,sumario))\n",
    "# print('\\n'.join(rinex_info))"
   ]
  },
  {
   "cell_type": "code",
   "execution_count": 6,
   "metadata": {},
   "outputs": [
    {
     "name": "stdout",
     "output_type": "stream",
     "text": [
      "Epoca inicial:  ('2020', '01', '24', '18', '00', '00', '2089', '5', '496800.000')\n",
      "Epoca final:  ('2020', '01', '25', '01', '59', '59', '2089', '6', '525599.000')\n",
      "Epoca media:  2020,1,24,21,59,59\n",
      "Epoca inicial:  ('2020', '01', '24', '18', '35', '15', '2089', '5', '498915.000')\n",
      "Epoca final:  ('2020', '01', '24', '23', '48', '15', '2089', '5', '517695.000')\n",
      "Epoca media:  2020,1,24,21,11,45\n",
      "Epoca inicial:  ('2020', '01', '24', '19', '37', '31', '2089', '5', '502651.000')\n",
      "Epoca final:  ('2020', '01', '25', '00', '21', '47', '2089', '6', '519707.000')\n",
      "Epoca media:  2020,1,24,21,59,39\n"
     ]
    }
   ],
   "source": [
    "rinex_times = []\n",
    "\n",
    "for a,s in rinex_info:\n",
    "    for i in s:\n",
    "        if m := re.match(r'.*first\\s+epoch:\\s+(\\d+).(\\d+).(\\d+).*?(\\d+).(\\d+).(\\d+).*?=.*?(\\d+)\\s+(\\d+)\\s+([\\d\\.]+)',i):\n",
    "            ini_time = totime((int(i) for i in m.groups()[:6]))\n",
    "            ini_gpsw = int(m.groups()[6])\n",
    "            ini_gpsdow = int(m.groups()[7])\n",
    "            print('Epoca inicial: ',m.groups())\n",
    "        if m := re.match(r'.*last\\s+epoch:\\s+(\\d+).(\\d+).(\\d+).*?(\\d+).(\\d+).(\\d+).*?=.*?(\\d+)\\s+(\\d+)\\s+([\\d\\.]+)',i):\n",
    "            end_time = totime((int(i) for i in m.groups()[:6]))\n",
    "            end_gpsw = int(m.groups()[6])\n",
    "            end_gpsdow = int(m.groups()[7])\n",
    "            print('Epoca final: ',m.groups())\n",
    "            \n",
    "    medio_st = '{},{},{},{},{},{}'.format(*(ini_time + (end_time-ini_time)/2).astype(datetime).timetuple())\n",
    "    print('Epoca media: ',medio_st)\n",
    "    rinex_times.append((a,ini_time,medio_st,end_time))"
   ]
  },
  {
   "cell_type": "code",
   "execution_count": 7,
   "metadata": {},
   "outputs": [
    {
     "name": "stdout",
     "output_type": "stream",
     "text": [
      "# RinEdit, part of the GPS Toolkit, Ver 2.4 9/23/15 rev, Run 2021/03/29 23:01:23\n",
      "   End time --end is 2089,511199.000000 = 2020,1,24,21,59,59\n",
      "Reading header...\n",
      "# Header ObsIDs GAL (4): L1B C1B D1B S1B\n",
      "# Header ObsIDs GPS (9): L1C L2W C1C C1W C2W D1C D2W S1C S2W\n",
      "# Header ObsIDs GLO (9): L1C L2C C1C C1P C2P D1C D2C S1C S2C\n",
      "# Header ObsIDs GEO (4): L1C C1C D1C S1C\n",
      "Reading observations...\n",
      " Opened output file /proyecto/splits/igm10241.20o at time 2020/01/24 18:00:00 = 2089 496800.000 GPS\n",
      " Close output file.\n",
      "RinEdit timing: processing 7.097 sec, wallclock: 7 sec.\n",
      "# RinEdit, part of the GPS Toolkit, Ver 2.4 9/23/15 rev, Run 2021/03/29 23:01:30\n",
      "   Begin time --begin is 2089,511199.000000 = 2020,1,24,21,59,59\n",
      "Reading header...\n",
      "# Header ObsIDs GAL (4): L1B C1B D1B S1B\n",
      "# Header ObsIDs GPS (9): L1C L2W C1C C1W C2W D1C D2W S1C S2W\n",
      "# Header ObsIDs GLO (9): L1C L2C C1C C1P C2P D1C D2C S1C S2C\n",
      "# Header ObsIDs GEO (4): L1C C1C D1C S1C\n",
      "Reading observations...\n",
      " Opened output file /proyecto/splits/igm10242.20o at time 2020/01/24 21:59:59 = 2089 511199.000 GPS\n",
      " Close output file.\n",
      "RinEdit timing: processing 8.631 sec, wallclock: 9 sec.\n",
      "# RinEdit, part of the GPS Toolkit, Ver 2.4 9/23/15 rev, Run 2021/03/29 23:01:39\n",
      "   End time --end is 2089,508305.000000 = 2020,1,24,21,11,45\n",
      "Reading header...\n",
      "# Header ObsIDs GPS (3): L1C C1C D1C\n",
      "Reading observations...\n",
      " Opened output file /proyecto/splits/PFD10241.20o at time 2020/01/24 18:35:15 = 2089 498915.000 GPS\n",
      " Close output file.\n",
      "RinEdit timing: processing 1.136 sec, wallclock: 1 sec.\n",
      "# RinEdit, part of the GPS Toolkit, Ver 2.4 9/23/15 rev, Run 2021/03/29 23:01:41\n",
      "   Begin time --begin is 2089,508305.000000 = 2020,1,24,21,11,45\n",
      "Reading header...\n",
      "# Header ObsIDs GPS (3): L1C C1C D1C\n",
      "Reading observations...\n",
      " Opened output file /proyecto/splits/PFD10242.20o at time 2020/01/24 21:11:45 = 2089 508305.000 GPS\n",
      " Close output file.\n",
      "RinEdit timing: processing 1.521 sec, wallclock: 1 sec.\n",
      "# RinEdit, part of the GPS Toolkit, Ver 2.4 9/23/15 rev, Run 2021/03/29 23:01:42\n",
      "   End time --end is 2089,511179.000000 = 2020,1,24,21,59,39\n",
      "Reading header...\n",
      "# Header ObsIDs GPS (3): L1C C1C D1C\n",
      "Reading observations...\n",
      " Opened output file /proyecto/splits/PFD20241.20o at time 2020/01/24 19:37:31 = 2089 502651.000 GPS\n",
      " Close output file.\n",
      "RinEdit timing: processing 1.094 sec, wallclock: 2 sec.\n",
      "# RinEdit, part of the GPS Toolkit, Ver 2.4 9/23/15 rev, Run 2021/03/29 23:01:44\n",
      "   Begin time --begin is 2089,511179.000000 = 2020,1,24,21,59,39\n",
      "Reading header...\n",
      "# Header ObsIDs GPS (3): L1C C1C D1C\n",
      "Reading observations...\n",
      " Opened output file /proyecto/splits/PFD20242.20o at time 2020/01/24 21:59:39 = 2089 511179.000 GPS\n",
      " Close output file.\n",
      "RinEdit timing: processing 1.343 sec, wallclock: 1 sec.\n"
     ]
    }
   ],
   "source": [
    "!mkdir -p {FILEFLD}/splits\n",
    "\n",
    "splitfiles = []\n",
    "\n",
    "for a,i,m,f in rinex_times:\n",
    "    archivo = os.path.basename(a)\n",
    "    archivo0 = archivo.replace('0.','1.') #HardCode\n",
    "    archivo1 = archivo.replace('0.','2.') #HardCode\n",
    "    !RinEdit --IF /{FILEFLD}/{archivo} --OF /{FILEFLD}/splits/{archivo0} --TE {m}\n",
    "    !RinEdit --IF /{FILEFLD}/{archivo} --OF /{FILEFLD}/splits/{archivo1} --TB {m}\n",
    "    \n",
    "    splitfiles.append([archivo,archivo0])\n",
    "    splitfiles.append([archivo,archivo1])"
   ]
  },
  {
   "cell_type": "markdown",
   "metadata": {},
   "source": [
    "# Cómputo de PDOP\n",
    "\n",
    "Con la herramienta PRSolve, parte de GPSTk, se calcula el PDOP para cada época de las sesiones, y \n",
    "se grafica a continuación (en un gráfico por cada sesión, incluyendo los datos de ambas estaciones).\n",
    "\n",
    "Se calculó el PDOP máximo y medio en cada caso."
   ]
  },
  {
   "cell_type": "code",
   "execution_count": 8,
   "metadata": {},
   "outputs": [
    {
     "name": "stdout",
     "output_type": "stream",
     "text": [
      "Output redirected to log file /proyecto/splits/igm10241.20o.sol\n",
      "PRSolve timing: processing 16.912 sec, wallclock: 17 sec.\n"
     ]
    },
    {
     "data": {
      "image/png": "[encoded data removed]",
      "text/plain": [
       "<Figure size 432x288 with 1 Axes>"
      ]
     },
     "metadata": {
      "needs_background": "light"
     },
     "output_type": "display_data"
    },
    {
     "name": "stdout",
     "output_type": "stream",
     "text": [
      "Max: 2.9, Min: 1.22, Promedio: 1.66\n",
      "Output redirected to log file /proyecto/splits/igm10242.20o.sol\n",
      "PRSolve timing: processing 17.609 sec, wallclock: 17 sec.\n"
     ]
    },
    {
     "data": {
      "image/png": "[encoded data removed]",
      "text/plain": [
       "<Figure size 432x288 with 1 Axes>"
      ]
     },
     "metadata": {
      "needs_background": "light"
     },
     "output_type": "display_data"
    },
    {
     "name": "stdout",
     "output_type": "stream",
     "text": [
      "Max: 1.82, Min: 1.1, Promedio: 1.49\n",
      "Output redirected to log file /proyecto/splits/PFD10241.20o.sol\n",
      "PRSolve timing: processing 10.627 sec, wallclock: 11 sec.\n"
     ]
    },
    {
     "data": {
      "image/png": "[encoded data removed]",
      "text/plain": [
       "<Figure size 432x288 with 1 Axes>"
      ]
     },
     "metadata": {
      "needs_background": "light"
     },
     "output_type": "display_data"
    },
    {
     "name": "stdout",
     "output_type": "stream",
     "text": [
      "Max: 3.02, Min: 1.41, Promedio: 1.93\n",
      "Output redirected to log file /proyecto/splits/PFD10242.20o.sol\n",
      "PRSolve timing: processing 10.114 sec, wallclock: 10 sec.\n"
     ]
    },
    {
     "data": {
      "image/png": "[encoded data removed]",
      "text/plain": [
       "<Figure size 432x288 with 1 Axes>"
      ]
     },
     "metadata": {
      "needs_background": "light"
     },
     "output_type": "display_data"
    },
    {
     "name": "stdout",
     "output_type": "stream",
     "text": [
      "Max: 2.74, Min: 1.51, Promedio: 1.82\n",
      "Output redirected to log file /proyecto/splits/PFD20241.20o.sol\n",
      "PRSolve timing: processing 9.182 sec, wallclock: 9 sec.\n"
     ]
    },
    {
     "data": {
      "image/png": "[encoded data removed]",
      "text/plain": [
       "<Figure size 432x288 with 1 Axes>"
      ]
     },
     "metadata": {
      "needs_background": "light"
     },
     "output_type": "display_data"
    },
    {
     "name": "stdout",
     "output_type": "stream",
     "text": [
      "Max: 3.5, Min: 1.6, Promedio: 2.05\n",
      "Output redirected to log file /proyecto/splits/PFD20242.20o.sol\n",
      "PRSolve timing: processing 9.858 sec, wallclock: 10 sec.\n"
     ]
    },
    {
     "data": {
      "image/png": "[encoded data removed]",
      "text/plain": [
       "<Figure size 432x288 with 1 Axes>"
      ]
     },
     "metadata": {
      "needs_background": "light"
     },
     "output_type": "display_data"
    },
    {
     "name": "stdout",
     "output_type": "stream",
     "text": [
      "Max: 2.73, Min: 1.42, Promedio: 1.7\n"
     ]
    }
   ],
   "source": [
    "for b,i in splitfiles:\n",
    "    nav = b[:-1]+'n'\n",
    "    \n",
    "    !PRSolve --obs /{FILEFLD}/splits/{i} --nav /{FILEFLD}/{nav} --sol GPS:1:C --log /{FILEFLD}/splits/{i}.sol\n",
    "    !grep \"RPF GPS:1:C RMS\" /{FILEFLD}/splits/{i}.sol > /{FILEFLD}/splits/{i}.sol.stats\n",
    "\n",
    "    PDOP = pd.read_fwf('/{}/splits/{}.sol.stats'.format(FILEFLD,i),header=None).set_index(4).loc[:,8]\n",
    "    PDOP.plot(style='x')\n",
    "\n",
    "    plt.ylabel('PDOP')\n",
    "    plt.xlabel('Tiempo, Segundos de Semana GPS')\n",
    "\n",
    "    plt.show()\n",
    "\n",
    "    print('Max: {:.3}, Min: {:.3}, Promedio: {:.3}'.format(PDOP.max(),PDOP.min(),PDOP.mean()))"
   ]
  },
  {
   "cell_type": "markdown",
   "metadata": {},
   "source": [
    "# Con esta información se generaron los Anexos 4 y 4.1"
   ]
  },
  {
   "cell_type": "code",
   "execution_count": 9,
   "metadata": {},
   "outputs": [],
   "source": [
    "filesinfo = fillforms.get_rx_data(os.path.join(FILEFLD,BASE),\n",
    "                                  os.path.join('/{}/splits'.format(FILEFLD),PIE).replace('0.','1.'),\n",
    "                                  os.path.join('/{}/splits'.format(FILEFLD),PIE).replace('0.','2.') )\n",
    "fillforms.make_template(filesinfo,template_file='./Anexo4.1.fdf')"
   ]
  },
  {
   "cell_type": "code",
   "execution_count": 10,
   "metadata": {},
   "outputs": [],
   "source": [
    "kwargs = {\n",
    "    'pdf_file':'./Anexo4.1.pdf',\n",
    "    'fdf_file':'./4.1.tmp.fdf',\n",
    "    'base':BASE[:4],\n",
    "    'punto':PIE[:4]\n",
    "}\n",
    "fillforms.apply_template(**kwargs)"
   ]
  },
  {
   "cell_type": "markdown",
   "metadata": {},
   "source": [
    "# Antenas:\n",
    "\n",
    "Las antenas utilizadas, modelo NAP100 de Ashtech, que son las antenas originales del equipo Promark 3, no se encuentran en el archivo de información de antena del software de procesamiento RTKLIB, los parámetros utilizados, extraidos de la información que viene grabada en la antena, están a continuación y son agregados al archivo de antenas para poder realizar el cálculo.\n",
    "\n",
    "El formato del archivo es el siguiente:\n",
    "https://kb.igs.org/hc/en-us/articles/216104678-ANTEX-format-description\n",
    "\n",
    "Los datos agregados Son:\n",
    "```      \n",
    "                                                            START OF ANTENNA    \n",
    "NAP100          NONE                                        TYPE / SERIAL NO    \n",
    "FIELD               JJC                      0    02-DIC-20 METH / BY / # / DATE\n",
    "     0.0                                                    DAZI                \n",
    "     0.0  80.0   5.0                                        ZEN1 / ZEN2 / DZEN  \n",
    "     1                                                      # OF FREQUENCIES    \n",
    "CONVERTED FROM RELATIVE NGS ANTENNA CALIBRATIONS            COMMENT             \n",
    "   G01                                                      START OF FREQUENCY  \n",
    "      0.00      0.00     73.00                              NORTH / EAST / UP   \n",
    "   G01                                                      END OF FREQUENCY    \n",
    "                                                            END OF ANTENNA      \n",
    "```      \n",
    "                                                            \n",
    "\n"
   ]
  },
  {
   "cell_type": "code",
   "execution_count": 11,
   "metadata": {},
   "outputs": [],
   "source": [
    "antenaNAP100 = \\\n",
    "\"\"\"\n",
    "                                                            START OF ANTENNA    \n",
    "NAP100          NONE                                        TYPE / SERIAL NO    \n",
    "FIELD               JJC                      0    02-DIC-20 METH / BY / # / DATE\n",
    "     0.0                                                    DAZI                \n",
    "     0.0  80.0   5.0                                        ZEN1 / ZEN2 / DZEN  \n",
    "     1                                                      # OF FREQUENCIES    \n",
    "CONVERTED FROM RELATIVE NGS ANTENNA CALIBRATIONS            COMMENT             \n",
    "   G01                                                      START OF FREQUENCY  \n",
    "      0.00      0.00     73.00                              NORTH / EAST / UP   \n",
    "   G01                                                      END OF FREQUENCY    \n",
    "                                                            END OF ANTENNA\n",
    "EOF\n",
    "\"\"\"\n",
    "!cat /rtklib/data/igs05.atx - <<EOF > /rtklib/data/antenas.atx $antenaNAP100"
   ]
  },
  {
   "cell_type": "code",
   "execution_count": 12,
   "metadata": {},
   "outputs": [],
   "source": [
    "with open('/proyecto/conf.cfg','r') as f:\n",
    "    confs = {i.strip():j.strip() for i,j in [k.split('=') for k in f.readlines()]}\n",
    "    \n",
    "    for i in pyconf.formulario.children:\n",
    "        try:\n",
    "            if i.description == 'pos1-navsys':\n",
    "                continue\n",
    "            \n",
    "            opts = [j.split(':')[1] for j in i.options]\n",
    "            optsn = [j.split(':')[0] for j in i.options]\n",
    "            \n",
    "            if (val := confs[i.description]) in opts:\n",
    "                i.value = i.options[opts.index(val)]\n",
    "            elif (val := confs[i.description]) in optsn:\n",
    "                i.value = i.options[optsn.index(val)]\n",
    "        except AttributeError:\n",
    "            if isinstance(i.value,int):\n",
    "                if confs[i.description] == '':\n",
    "                    i.value = -1\n",
    "                else:\n",
    "                    i.value = int(confs[i.description])\n",
    "            elif isinstance(i.value,str):\n",
    "                i.value = confs[i.description]\n",
    "            elif isinstance(i.value,float):\n",
    "                i.value = float(confs[i.description])\n",
    "                if confs[i.description] == '':\n",
    "                    i.value = -1"
   ]
  },
  {
   "cell_type": "code",
   "execution_count": 13,
   "metadata": {},
   "outputs": [
    {
     "data": {
      "application/vnd.jupyter.widget-view+json": {
       "model_id": "2b0f096b7ea44bbc81bf8d74044220f1",
       "version_major": 2,
       "version_minor": 0
      },
      "text/plain": [
       "GridspecLayout(children=(Dropdown(description='pos1-posmode', index=3, layout=Layout(grid_area='widget001'), o…"
      ]
     },
     "metadata": {},
     "output_type": "display_data"
    }
   ],
   "source": [
    "pyconf.formulario"
   ]
  },
  {
   "cell_type": "code",
   "execution_count": 14,
   "metadata": {},
   "outputs": [],
   "source": [
    "import numbers\n",
    "\n",
    "with open('/proyecto/conf.cfg','w') as f:\n",
    "    for i in pyconf.formulario.children:\n",
    "        try:\n",
    "            if isinstance(i.value, (list, tuple)):\n",
    "                value = sum([int(v.split(':')[0]) for v in i.value if v.split(':')[0] != ''])\n",
    "            else:\n",
    "                value = i.value.split(':')[-1]\n",
    "                \n",
    "            try:\n",
    "                if int(value) < 0: # -1 is blank\n",
    "                    value = ''\n",
    "            except ValueError:\n",
    "                pass\n",
    "            \n",
    "        except AttributeError:\n",
    "            value = i.value\n",
    "            try:\n",
    "                if int(value) < 0: # -1 is blank\n",
    "                    value = ''\n",
    "            except ValueError:\n",
    "                pass\n",
    "\n",
    "        print('{} ={}'.format(i.description,value),file=f)"
   ]
  },
  {
   "cell_type": "code",
   "execution_count": 15,
   "metadata": {},
   "outputs": [
    {
     "name": "stdout",
     "output_type": "stream",
     "text": [
      "pos1-posmode =static\n",
      "pos1-frequency =l1\n",
      "pos1-soltype =forward\n",
      "pos1-elmask =10\n",
      "pos1-snrmask =\n",
      "pos1-dynamics =on\n",
      "pos1-tidecorr =on\n",
      "pos1-ionoopt =off\n",
      "pos1-tropopt =saas\n",
      "pos1-sateph =brdc\n",
      "pos1-exclsats =\n",
      "pos1-navsys =1\n",
      "pos2-armode =fix-and-hold\n",
      "pos2-gloarmode =on\n",
      "pos2-arthres =3\n",
      "pos2-arlockcnt =60\n",
      "pos2-arelmask =15\n",
      "pos2-aroutcnt =1\n",
      "pos2-arminfix =120\n",
      "pos2-elmaskhold =20\n",
      "pos2-slipthres =0.05\n",
      "pos2-maxage =30\n",
      "pos2-rejionno =30\n",
      "pos2-niter =5\n",
      "pos2-baselen =\n",
      "pos2-basesig =\n",
      "out-solformat =llh\n",
      "out-outhead =on\n",
      "out-outopt =on\n",
      "out-timesys =gpst\n",
      "out-timeform =hms\n",
      "out-timendec =3\n",
      "out-degform =deg\n",
      "out-fieldsep =\n",
      "out-height =ellipsoidal\n",
      "out-geoid =internal\n",
      "out-solstatic =all\n",
      "out-nmeaintv1 =\n",
      "out-nmeaintv2 =\n",
      "out-outstat =residual\n",
      "stats-errratio =100\n",
      "stats-errphase =0.003\n",
      "stats-errphaseel =0.003\n",
      "stats-errphasebl =\n",
      "stats-errdoppler =10\n",
      "stats-stdbias =30\n",
      "stats-stdiono =0.03\n",
      "stats-stdtrop =0.6\n",
      "stats-prnaccelh =0.01\n",
      "stats-prnaccelv =0.001\n",
      "stats-prnbias =0.0001\n",
      "stats-prniono =0.001\n",
      "stats-prntrop =0.0001\n",
      "stats-clkstab =5e-12\n",
      "ant1-postype =single\n",
      "ant1-pos1 =0\n",
      "ant1-pos2 =0\n",
      "ant1-pos3 =0\n",
      "ant1-anttype =*\n",
      "ant1-antdele =0\n",
      "ant1-antdeln =0\n",
      "ant1-antdelu =0\n",
      "ant2-postype =posfile\n",
      "ant2-pos1 =0\n",
      "ant2-pos2 =0\n",
      "ant2-pos3 =0\n",
      "ant2-anttype =*\n",
      "ant2-antdele =0\n",
      "ant2-antdeln =0\n",
      "ant2-antdelu =0\n",
      "misc-timeinterp =on\n",
      "misc-sbasatsel =\n",
      "file-satantfile =/rtklib/data/igs05.atx\n",
      "file-rcvantfile =/rtklib/data/antenas.atx\n",
      "file-staposfile =/rtklib/data/ramsac.pos\n",
      "file-geoidfile =\n",
      "file-dcbfile =/rtklib/data/P1C1_ALL.DCB\n",
      "file-tempdir =\n",
      "file-geexefile =\n",
      "file-solstatfile =\n",
      "file-tracefile =\n"
     ]
    }
   ],
   "source": [
    "cat /proyecto/conf.cfg"
   ]
  },
  {
   "cell_type": "code",
   "execution_count": 16,
   "metadata": {},
   "outputs": [
    {
     "name": "stdout",
     "output_type": "stream",
     "text": [
      "mkdir: cannot create directory ‘sp3’: File exists\n"
     ]
    }
   ],
   "source": [
    "mkdir sp3"
   ]
  },
  {
   "cell_type": "code",
   "execution_count": 17,
   "metadata": {},
   "outputs": [],
   "source": [
    "import urllib.request as urlreq"
   ]
  },
  {
   "cell_type": "code",
   "execution_count": 18,
   "metadata": {},
   "outputs": [],
   "source": [
    "import subprocess"
   ]
  },
  {
   "cell_type": "code",
   "execution_count": 19,
   "metadata": {},
   "outputs": [],
   "source": [
    "sp3files = []\n",
    "\n",
    "def saveSp3(w,d,folder='sp3'):\n",
    "    url = \"ftp://gssc.esa.int/gnss/products/{}/igs{}.sp3.Z\".format(w,d)\n",
    "    weburl = urlreq.urlopen(url)\n",
    "    data= weburl.read()\n",
    "    dest_path= \"{}/igs{}.sp3\".format(folder,d)\n",
    "    with open(dest_path,'bw') as f:\n",
    "        subprocess.run(\"gunzip\",input=data,stdout=f)\n",
    "    sp3files.append(dest_path)"
   ]
  },
  {
   "cell_type": "code",
   "execution_count": 20,
   "metadata": {},
   "outputs": [],
   "source": [
    "w = '{}'.format(ini_gpsw) \n",
    "d = '{}{}'.format(ini_gpsw,ini_gpsdow)\n",
    "saveSp3(w,d)\n",
    "\n",
    "if ini_gpsdow == 0:\n",
    "    w = '{}'.format(ini_gpsw-1) \n",
    "    d = '{}{}'.format(ini_gpsw-1,6)\n",
    "    saveSp3(w,d)\n",
    "    w = '{}'.format(ini_gpsw) \n",
    "    d = '{}{}'.format(ini_gpsw,1)\n",
    "    saveSp3(w,d)   \n",
    "elif ini_gpsdow == 6:\n",
    "    w = '{}'.format(ini_gpsw) \n",
    "    d = '{}{}'.format(ini_gpsw,5)\n",
    "    saveSp3(w,d)\n",
    "    w = '{}'.format(ini_gpsw) \n",
    "    d = '{}{}'.format(ini_gpsw+1,0)\n",
    "    saveSp3(w,d)\n",
    "else:\n",
    "    w = '{}'.format(ini_gpsw) \n",
    "    d = '{}{}'.format(ini_gpsw,ini_gpsdow+1)\n",
    "    saveSp3(w,d)\n",
    "    w = '{}'.format(ini_gpsw) \n",
    "    d = '{}{}'.format(ini_gpsw,ini_gpsdow-1)\n",
    "    saveSp3(w,d)   "
   ]
  },
  {
   "cell_type": "code",
   "execution_count": 21,
   "metadata": {},
   "outputs": [],
   "source": [
    "punto = '{}/splits/{}'.format(FILEFLD,splitfiles[2][1])\n",
    "base = '{}/{}'.format(FILEFLD,splitfiles[0][0])\n",
    "nav = '{}/{}'.format(FILEFLD,splitfiles[0][0])[:-1] + 'n'\n",
    "eph = '{} {} {}'.format(*set(sp3files))"
   ]
  },
  {
   "cell_type": "code",
   "execution_count": 22,
   "metadata": {},
   "outputs": [
    {
     "name": "stdout",
     "output_type": "stream",
     "text": [
      "rnx2rtkp -k proyecto/conf.cfg proyecto/splits/PFD10241.20o proyecto/igm10240.20o proyecto/igm10240.20n sp3/igs20896.sp3 sp3/igs20894.sp3 sp3/igs20895.sp3 -o SesionA.txt\n",
      "rnx2rtkp -b -k proyecto/conf.cfg proyecto/splits/PFD10241.20o proyecto/igm10240.20o proyecto/igm10240.20n sp3/igs20896.sp3 sp3/igs20894.sp3 sp3/igs20895.sp3 -o SesionA-b.txt\n",
      "                                        \r"
     ]
    }
   ],
   "source": [
    "!echo rnx2rtkp -k {FILEFLD}/conf.cfg {punto} {base} {nav} {eph} -o SesionA.txt\n",
    "!rnx2rtkp -k {FILEFLD}/conf.cfg {punto} {base} {nav} {eph} -o SesionA.txt\n",
    "\n",
    "!echo rnx2rtkp -b -k {FILEFLD}/conf.cfg {punto} {base} {nav} {eph} -o SesionA-b.txt\n",
    "!rnx2rtkp -b -k {FILEFLD}/conf.cfg {punto} {base} {nav} {eph} -o SesionA-b.txt"
   ]
  },
  {
   "cell_type": "code",
   "execution_count": 23,
   "metadata": {},
   "outputs": [],
   "source": [
    "punto = '{}/splits/{}'.format(FILEFLD,splitfiles[3][1])"
   ]
  },
  {
   "cell_type": "code",
   "execution_count": 24,
   "metadata": {},
   "outputs": [
    {
     "name": "stdout",
     "output_type": "stream",
     "text": [
      "rnx2rtkp -k proyecto/conf.cfg proyecto/splits/PFD10242.20o proyecto/igm10240.20o proyecto/igm10240.20n sp3/igs20896.sp3 sp3/igs20894.sp3 sp3/igs20895.sp3 -o SesionB.txt\n",
      "rnx2rtkp -b -k proyecto/conf.cfg proyecto/splits/PFD10242.20o proyecto/igm10240.20o proyecto/igm10240.20n sp3/igs20896.sp3 sp3/igs20894.sp3 sp3/igs20895.sp3 -o SesionB-b.txt\n",
      "                                        \r"
     ]
    }
   ],
   "source": [
    "!echo rnx2rtkp -k {FILEFLD}/conf.cfg {punto} {base} {nav} {eph} -o SesionB.txt\n",
    "!rnx2rtkp -k {FILEFLD}/conf.cfg {punto} {base} {nav} {eph} -o SesionB.txt\n",
    "\n",
    "!echo rnx2rtkp -b -k {FILEFLD}/conf.cfg {punto} {base} {nav} {eph} -o SesionB-b.txt\n",
    "!rnx2rtkp -b -k {FILEFLD}/conf.cfg {punto} {base} {nav} {eph} -o SesionB-b.txt"
   ]
  },
  {
   "cell_type": "code",
   "execution_count": 25,
   "metadata": {},
   "outputs": [],
   "source": [
    "punto = '{}/{}'.format(FILEFLD,splitfiles[2][0])"
   ]
  },
  {
   "cell_type": "code",
   "execution_count": 26,
   "metadata": {},
   "outputs": [
    {
     "name": "stdout",
     "output_type": "stream",
     "text": [
      "rnx2rtkp -k proyecto/conf.cfg proyecto/PFD10240.20o proyecto/igm10240.20o proyecto/igm10240.20n sp3/igs20896.sp3 sp3/igs20894.sp3 sp3/igs20895.sp3 -o SesionC.txt\n",
      "rnx2rtkp -b -k proyecto/conf.cfg proyecto/PFD10240.20o proyecto/igm10240.20o proyecto/igm10240.20n sp3/igs20896.sp3 sp3/igs20894.sp3 sp3/igs20895.sp3 -o SesionC-b.txt\n",
      "                                        \r"
     ]
    }
   ],
   "source": [
    "!echo rnx2rtkp -k {FILEFLD}/conf.cfg {punto} {base} {nav} {eph} -o SesionC.txt\n",
    "!rnx2rtkp -k {FILEFLD}/conf.cfg {punto} {base} {nav} {eph} -o SesionC.txt\n",
    "\n",
    "!echo rnx2rtkp -b -k {FILEFLD}/conf.cfg {punto} {base} {nav} {eph} -o SesionC-b.txt\n",
    "!rnx2rtkp -b -k {FILEFLD}/conf.cfg {punto} {base} {nav} {eph} -o SesionC-b.txt"
   ]
  },
  {
   "cell_type": "code",
   "execution_count": 27,
   "metadata": {},
   "outputs": [
    {
     "name": "stdout",
     "output_type": "stream",
     "text": [
      "% program   : RTKLIB ver.2.4.3\n",
      "% inp file  : proyecto/splits/PFD10241.20o\n",
      "% inp file  : proyecto/igm10240.20o\n",
      "% inp file  : proyecto/igm10240.20n\n",
      "% inp file  : sp3/igs20896.sp3\n",
      "% inp file  : sp3/igs20894.sp3\n",
      "% inp file  : sp3/igs20895.sp3\n",
      "% obs start : 2020/01/24 18:35:15.0 GPST (week2089 498915.0s)\n",
      "% obs end   : 2020/01/24 21:11:45.0 GPST (week2089 508305.0s)\n",
      "% pos mode  : Static\n",
      "% freqs     : L1\n",
      "% solution  : Forward\n",
      "% elev mask : 10.0 deg\n",
      "% dynamics  : on\n",
      "% tidecorr  : on\n",
      "% ionos opt : OFF\n",
      "% tropo opt : Saastamoinen\n",
      "% ephemeris : Broadcast\n",
      "% navi sys  : GPS\n",
      "% amb res   : Fix and Hold\n",
      "% val thres : 3.0\n",
      "% antenna1  : NAP100          NONE  ( 0.0000  0.0000  1.3780)\n",
      "% antenna2  : ASH700936D_M    SNOW  ( 0.0000  0.0000  0.0000)\n",
      "% ref pos   :-34.572243703 -58.439319328   50.6937\n",
      "%\n",
      "% (lat/lon/height=WGS84/ellipsoidal,Q=1:fix,2:float,3:sbas,4:dgps,5:single,6:ppp,ns=# of satellites)\n",
      "%  GPST                  latitude(deg) longitude(deg)  height(m)   Q  ns   sdn(m)   sde(m)   sdu(m)  sdne(m)  sdeu(m)  sdun(m) age(s)  ratio\n"
     ]
    }
   ],
   "source": [
    "!cat SesionA.txt | grep -e '^%'"
   ]
  },
  {
   "cell_type": "code",
   "execution_count": 28,
   "metadata": {},
   "outputs": [],
   "source": [
    "cols = [\"date\",\"GPST\", \"latitude\", \"longitude\",\"height\",\"Q\",\"ns\",\"sdn\",\"sde\",\"sdu\",\"sdne\",\"sdeu\",\"sdun\",\"age\",\"ratio\"]\n",
    "\n",
    "sessA = pd.read_fwf('SesionA.txt',comment='%',names=cols,index=None)\n",
    "sessA = sessA.set_index((sessA.date + 'T' + sessA.GPST).map(lambda x: np.datetime64(x.replace('/','-'))))\n",
    "\n",
    "sessB = pd.read_fwf('SesionB.txt',comment='%',names=cols,index=None)\n",
    "sessB = sessB.set_index((sessB.date + 'T' + sessB.GPST).map(lambda x: np.datetime64(x.replace('/','-'))))\n",
    "\n",
    "sessC = pd.read_fwf('SesionC.txt',comment='%',names=cols,index=None)\n",
    "sessC = sessC.set_index((sessC.date + 'T' + sessC.GPST).map(lambda x: np.datetime64(x.replace('/','-'))))\n",
    "\n",
    "sessAb = pd.read_fwf('SesionA-b.txt',comment='%',names=cols,index=None)\n",
    "sessAb = sessAb.set_index((sessAb.date + 'T' + sessAb.GPST).map(lambda x: np.datetime64(x.replace('/','-'))))\n",
    "\n",
    "sessBb = pd.read_fwf('SesionB-b.txt',comment='%',names=cols,index=None)\n",
    "sessBb = sessBb.set_index((sessBb.date + 'T' + sessBb.GPST).map(lambda x: np.datetime64(x.replace('/','-'))))\n",
    "\n",
    "sessCb = pd.read_fwf('SesionC-b.txt',comment='%',names=cols,index=None)\n",
    "sessCb = sessCb.set_index((sessCb.date + 'T' + sessCb.GPST).map(lambda x: np.datetime64(x.replace('/','-'))))"
   ]
  },
  {
   "cell_type": "code",
   "execution_count": 29,
   "metadata": {},
   "outputs": [
    {
     "name": "stdout",
     "output_type": "stream",
     "text": [
      "sessionA:-34.954150828,sessionB:-34.954150439,sessionC:-34.954150802\n"
     ]
    },
    {
     "data": {
      "image/png": "[encoded data removed]",
      "text/plain": [
       "<Figure size 432x288 with 1 Axes>"
      ]
     },
     "metadata": {
      "needs_background": "light"
     },
     "output_type": "display_data"
    }
   ],
   "source": [
    "fig,ax = plt.subplots()\n",
    "(sessA.latitude * DEG2RAD * 6.4e6).iloc[len(sessA)//2:].plot(label='Sesion A',ax=ax)\n",
    "(sessB.latitude * DEG2RAD * 6.4e6).iloc[len(sessB)//2:].plot(label='Sesion B',ax=ax)\n",
    "(sessC.latitude * DEG2RAD * 6.4e6).iloc[len(sessC)//2:].plot(label='Completo',ax=ax)\n",
    "(sessAb.latitude * DEG2RAD * 6.4e6).iloc[len(sessAb)//2:].plot(label='Sesion A',ax=ax)\n",
    "(sessBb.latitude * DEG2RAD * 6.4e6).iloc[len(sessBb)//2:].plot(label='Sesion B',ax=ax)\n",
    "(sessCb.latitude * DEG2RAD * 6.4e6).iloc[len(sessCb)//2:].plot(label='Completo',ax=ax)\n",
    "\n",
    "print('sessionA:{},sessionB:{},sessionC:{}'.format(*[i.latitude.median() for i in (sessA,sessB,sessC)]))\n",
    "ax.legend()\n",
    "plt.show()"
   ]
  },
  {
   "cell_type": "code",
   "execution_count": 30,
   "metadata": {},
   "outputs": [
    {
     "name": "stdout",
     "output_type": "stream",
     "text": [
      "2020-01-24 18:35:15 2020-01-24 21:11:45\n",
      "2020-01-24 21:11:45 2020-01-24 23:48:15\n",
      "2020-01-24 18:35:15 2020-01-24 23:48:15\n",
      "2020-01-24 21:11:45 2020-01-24 18:35:15\n",
      "2020-01-24 23:48:15 2020-01-24 21:11:45\n",
      "2020-01-24 23:48:15 2020-01-24 18:35:15\n"
     ]
    }
   ],
   "source": [
    "print(sessA.index[0],sessA.index[-1])\n",
    "print(sessB.index[0],sessB.index[-1])\n",
    "print(sessC.index[0],sessC.index[-1])\n",
    "print(sessAb.index[0],sessAb.index[-1])\n",
    "print(sessBb.index[0],sessBb.index[-1])\n",
    "print(sessCb.index[0],sessCb.index[-1])"
   ]
  },
  {
   "cell_type": "code",
   "execution_count": 31,
   "metadata": {},
   "outputs": [
    {
     "name": "stdout",
     "output_type": "stream",
     "text": [
      "sessionA:-58.792189722,sessionB:-58.79218925,sessionC:-58.792189706\n"
     ]
    },
    {
     "data": {
      "image/png": "[encoded data removed]",
      "text/plain": [
       "<Figure size 432x288 with 1 Axes>"
      ]
     },
     "metadata": {
      "needs_background": "light"
     },
     "output_type": "display_data"
    }
   ],
   "source": [
    "reflat = sessA.latitude.median()\n",
    "cosreflat = cos(reflat * DEG2RAD)\n",
    "\n",
    "fig,ax = plt.subplots()\n",
    "\n",
    "(sessA.longitude * DEG2RAD * cosreflat * 6.4e6).iloc[len(sessA)//2:].plot(label='Sesion A',ax=ax)\n",
    "(sessB.longitude * DEG2RAD * cosreflat * 6.4e6).iloc[len(sessB)//2:].plot(label='Sesion B',ax=ax)\n",
    "(sessC.longitude * DEG2RAD * cosreflat * 6.4e6).iloc[len(sessC)//2:].plot(label='Completo',ax=ax)\n",
    "(sessAb.longitude * DEG2RAD * cosreflat * 6.4e6).iloc[len(sessAb)//2:].plot(label='Sesion A',ax=ax)\n",
    "(sessBb.longitude * DEG2RAD * cosreflat * 6.4e6).iloc[len(sessBb)//2:].plot(label='Sesion B',ax=ax)\n",
    "(sessCb.longitude * DEG2RAD * cosreflat * 6.4e6).iloc[len(sessCb)//2:].plot(label='Completo',ax=ax)\n",
    "\n",
    "\n",
    "\n",
    "print('sessionA:{},sessionB:{},sessionC:{}'.format(*[i.longitude.median() for i in (sessA,sessB,sessC)]))\n",
    "\n",
    "ax.legend()\n",
    "plt.show()"
   ]
  },
  {
   "cell_type": "code",
   "execution_count": 32,
   "metadata": {},
   "outputs": [
    {
     "data": {
      "image/png": "[encoded data removed]",
      "text/plain": [
       "<Figure size 432x288 with 1 Axes>"
      ]
     },
     "metadata": {
      "needs_background": "light"
     },
     "output_type": "display_data"
    }
   ],
   "source": [
    "plt.subplots()\n",
    "\n",
    "plt.plot(sessA.iloc[len(sessA)//2:].longitude * DEG2RAD * cosreflat * 6.4e6,sessA.iloc[len(sessA)//2:].latitude * DEG2RAD * 6.4e6,'x',alpha=0.05)\n",
    "plt.plot(sessB.iloc[len(sessB)//2:].longitude * DEG2RAD * cosreflat * 6.4e6,sessB.iloc[len(sessB)//2:].latitude * DEG2RAD * 6.4e6,'.',alpha=0.05)\n",
    "plt.plot(sessC.iloc[len(sessC)//2:].longitude * DEG2RAD * cosreflat * 6.4e6,sessC.iloc[len(sessC)//2:].latitude * DEG2RAD * 6.4e6,'^',alpha=0.05)\n",
    "\n",
    "plt.plot(sessA.longitude[-1] * DEG2RAD * cosreflat * 6.4e6,sessA.latitude[-1] * DEG2RAD * 6.4e6,'>',markersize=15)\n",
    "plt.plot(sessB.longitude[-1] * DEG2RAD * cosreflat * 6.4e6,sessB.latitude[-1] * DEG2RAD * 6.4e6,'o',markersize=15)\n",
    "plt.plot(sessC.longitude[-1] * DEG2RAD * cosreflat * 6.4e6,sessC.latitude[-1] * DEG2RAD * 6.4e6,'^',markersize=15)\n",
    "\n",
    "plt.plot(sessAb.iloc[len(sessAb)//2:].longitude * DEG2RAD * cosreflat * 6.4e6,sessAb.iloc[len(sessAb)//2:].latitude * DEG2RAD * 6.4e6,'x',alpha=0.05)\n",
    "plt.plot(sessBb.iloc[len(sessBb)//2:].longitude * DEG2RAD * cosreflat * 6.4e6,sessBb.iloc[len(sessBb)//2:].latitude * DEG2RAD * 6.4e6,'.',alpha=0.05)\n",
    "plt.plot(sessCb.iloc[len(sessCb)//2:].longitude * DEG2RAD * cosreflat * 6.4e6,sessCb.iloc[len(sessCb)//2:].latitude * DEG2RAD * 6.4e6,'^',alpha=0.05)\n",
    "\n",
    "plt.plot(sessAb.longitude[-1] * DEG2RAD * cosreflat * 6.4e6,sessAb.latitude[-1] * DEG2RAD * 6.4e6,'>',markersize=15)\n",
    "plt.plot(sessBb.longitude[-1] * DEG2RAD * cosreflat * 6.4e6,sessBb.latitude[-1] * DEG2RAD * 6.4e6,'o',markersize=15)\n",
    "plt.plot(sessCb.longitude[-1] * DEG2RAD * cosreflat * 6.4e6,sessCb.latitude[-1] * DEG2RAD * 6.4e6,'^',markersize=15)\n",
    "\n",
    "plt.show()"
   ]
  },
  {
   "cell_type": "code",
   "execution_count": 33,
   "metadata": {},
   "outputs": [
    {
     "name": "stdout",
     "output_type": "stream",
     "text": [
      "sessionA:36.2483,sessionB:36.2989,sessionC:36.2563\n"
     ]
    },
    {
     "data": {
      "image/png": "[encoded data removed]",
      "text/plain": [
       "<Figure size 432x288 with 1 Axes>"
      ]
     },
     "metadata": {
      "needs_background": "light"
     },
     "output_type": "display_data"
    }
   ],
   "source": [
    "fig,ax = plt.subplots()\n",
    "\n",
    "sessA.iloc[len(sessA)//2:].height.plot(label='Sesion A',ax=ax)\n",
    "sessB.iloc[len(sessB)//2:].height.plot(label='Sesion B',ax=ax)\n",
    "sessC.iloc[len(sessC)//2:].height.plot(label='Completo',ax=ax)\n",
    "sessAb.iloc[len(sessAb)//2:].height.plot(label='Sesion A',ax=ax)\n",
    "sessBb.iloc[len(sessBb)//2:].height.plot(label='Sesion B',ax=ax)\n",
    "sessCb.iloc[len(sessCb)//2:].height.plot(label='Completo',ax=ax)\n",
    "\n",
    "print('sessionA:{},sessionB:{},sessionC:{}'.format(*[i.height[-1] for i in (sessA,sessB,sessC)]))\n",
    "\n",
    "ax.legend()\n",
    "\n",
    "plt.show()"
   ]
  },
  {
   "cell_type": "code",
   "execution_count": 34,
   "metadata": {},
   "outputs": [],
   "source": [
    "PFD1_A = pd.Series({'latitud':sessA.latitude[-1],'longitud':sessA.longitude[-1],'altura':sessA.height[-1]})\n",
    "PFD1_B = pd.Series({'latitud':sessB.latitude[-1],'longitud':sessB.longitude[-1],'altura':sessB.height[-1]})\n",
    "PFD1_C = pd.Series({'latitud':sessC.latitude[-1],'longitud':sessC.longitude[-1],'altura':sessC.height[-1]})"
   ]
  },
  {
   "cell_type": "code",
   "execution_count": 35,
   "metadata": {},
   "outputs": [
    {
     "name": "stdout",
     "output_type": "stream",
     "text": [
      "6925680.704\t3209257.563 36.2483\n",
      "6925680.747\t3209257.603 36.2989\n",
      "6925680.715\t3209257.581 36.2563\n"
     ]
    }
   ],
   "source": [
    "sesiones_string = \\\n",
    "\"\"\"\n",
    "{latitud} {longitud} {altura}\"\"\".format(**PFD1_A) +\\\n",
    "\"\"\"\n",
    "{latitud} {longitud} {altura}\"\"\".format(**PFD1_B) +\\\n",
    "\"\"\"\n",
    "{latitud} {longitud} {altura}\"\"\".format(**PFD1_C) +\\\n",
    "\"\"\"\n",
    "EOF\n",
    "\"\"\"\n",
    "\n",
    "!proj -f %.3f +proj=tmerc +ellps=GRS80 +lat_0=-90 +lon_0=-60 +x_0=5500000 +no_defs << EOF $sesiones_string"
   ]
  },
  {
   "cell_type": "code",
   "execution_count": 36,
   "metadata": {},
   "outputs": [],
   "source": [
    "PFD1_Ab = pd.Series({'latitud':sessAb.latitude[-1],'longitud':sessAb.longitude[-1],'altura':sessAb.height[-1]})\n",
    "PFD1_Bb = pd.Series({'latitud':sessBb.latitude[-1],'longitud':sessBb.longitude[-1],'altura':sessBb.height[-1]})\n",
    "PFD1_Cb = pd.Series({'latitud':sessCb.latitude[-1],'longitud':sessCb.longitude[-1],'altura':sessCb.height[-1]})"
   ]
  },
  {
   "cell_type": "code",
   "execution_count": 37,
   "metadata": {},
   "outputs": [
    {
     "name": "stdout",
     "output_type": "stream",
     "text": [
      "6925680.702\t3209257.561 36.259\n",
      "6925680.740\t3209257.602 36.2468\n",
      "6925680.710\t3209257.568 36.2359\n"
     ]
    }
   ],
   "source": [
    "sesiones_string = \\\n",
    "\"\"\"\n",
    "{latitud} {longitud} {altura}\"\"\".format(**PFD1_Ab) +\\\n",
    "\"\"\"\n",
    "{latitud} {longitud} {altura}\"\"\".format(**PFD1_Bb) +\\\n",
    "\"\"\"\n",
    "{latitud} {longitud} {altura}\"\"\".format(**PFD1_Cb) +\\\n",
    "\"\"\"\n",
    "EOF\n",
    "\"\"\"\n",
    "\n",
    "!proj -f %.3f +proj=tmerc +ellps=GRS80 +lat_0=-90 +lon_0=-60 +x_0=5500000 +no_defs << EOF $sesiones_string"
   ]
  },
  {
   "cell_type": "code",
   "execution_count": 38,
   "metadata": {},
   "outputs": [
    {
     "name": "stdout",
     "output_type": "stream",
     "text": [
      "-34.954150747  -58.792189530    36.256  PFD1  PFD1\n"
     ]
    }
   ],
   "source": [
    "print('{latitud:13.9f} {longitud:14.9f} {altura:9.3f}  PFD1  PFD1'.format(**PFD1_C))"
   ]
  },
  {
   "cell_type": "code",
   "execution_count": 39,
   "metadata": {},
   "outputs": [],
   "source": [
    "with open('/rtklib/data/ramsac.pos','a+') as f:\n",
    "    print('{latitud:13.9f} {longitud:14.9f} {altura:9.3f}  PFD1  PFD1'.format(**PFD1_C),file=f)"
   ]
  },
  {
   "cell_type": "markdown",
   "metadata": {},
   "source": [
    "# Vector de Orientación"
   ]
  },
  {
   "cell_type": "code",
   "execution_count": 40,
   "metadata": {},
   "outputs": [],
   "source": [
    "try:\n",
    "    with open('/proyecto/conf2.cfg','r') as f:\n",
    "        confs = {i.strip():j.strip() for i,j in [k.split('=') for k in f.readlines()]}\n",
    "\n",
    "        for i in pyconf.formulario.children:\n",
    "            try:\n",
    "                if i.description == 'pos1-navsys':\n",
    "                    continue\n",
    "\n",
    "                opts = [j.split(':')[1] for j in i.options]\n",
    "                optsn = [j.split(':')[0] for j in i.options]\n",
    "\n",
    "                if (val := confs[i.description]) in opts:\n",
    "                    i.value = i.options[opts.index(val)]\n",
    "                elif (val := confs[i.description]) in optsn:\n",
    "                    i.value = i.options[optsn.index(val)]\n",
    "            except AttributeError:\n",
    "                if isinstance(i.value,int):\n",
    "                    if confs[i.description] == '':\n",
    "                        i.value = -1\n",
    "                    else:\n",
    "                        i.value = int(confs[i.description])\n",
    "                elif isinstance(i.value,str):\n",
    "                    i.value = confs[i.description]\n",
    "                elif isinstance(i.value,float):\n",
    "                    i.value = float(confs[i.description])\n",
    "                    if confs[i.description] == '':\n",
    "                        i.value = -1\n",
    "except FileNotFoundError:\n",
    "    pass"
   ]
  },
  {
   "cell_type": "code",
   "execution_count": 41,
   "metadata": {},
   "outputs": [
    {
     "data": {
      "application/vnd.jupyter.widget-view+json": {
       "model_id": "2b0f096b7ea44bbc81bf8d74044220f1",
       "version_major": 2,
       "version_minor": 0
      },
      "text/plain": [
       "GridspecLayout(children=(Dropdown(description='pos1-posmode', index=3, layout=Layout(grid_area='widget001'), o…"
      ]
     },
     "metadata": {},
     "output_type": "display_data"
    }
   ],
   "source": [
    "pyconf.formulario"
   ]
  },
  {
   "cell_type": "code",
   "execution_count": 42,
   "metadata": {},
   "outputs": [],
   "source": [
    "import numbers\n",
    "\n",
    "with open('/proyecto/conf2.cfg','w') as f:\n",
    "    for i in pyconf.formulario.children:\n",
    "        try:\n",
    "            if isinstance(i.value, (list, tuple)):\n",
    "                value = sum([int(v.split(':')[0]) for v in i.value if v.split(':')[0] != ''])\n",
    "            else:\n",
    "                value = i.value.split(':')[-1]\n",
    "                \n",
    "            try:\n",
    "                if int(value) < 0: # -1 is blank\n",
    "                    value = ''\n",
    "            except ValueError:\n",
    "                pass\n",
    "            \n",
    "        except AttributeError:\n",
    "            value = i.value\n",
    "            try:\n",
    "                if int(value) < 0: # -1 is blank\n",
    "                    value = ''\n",
    "            except ValueError:\n",
    "                pass\n",
    "\n",
    "        print('{} ={}'.format(i.description,value),file=f)"
   ]
  },
  {
   "cell_type": "code",
   "execution_count": 43,
   "metadata": {},
   "outputs": [
    {
     "name": "stdout",
     "output_type": "stream",
     "text": [
      "# RinSum, part of the GPS Toolkit, Ver 4.1 8/26/15, Run 2021/03/29 23:05:50\n",
      "+++++++++++++ RinSum summary of Rinex obs file /proyecto/PFD20240.20o +++++++++++++\n",
      "---------------------------------- REQUIRED ----------------------------------\n",
      "Rinex Version  2.11,  File type O,  System G (GPS).\n",
      "Prgm: JJC Open Gps Read,  Run: 22 - OCT - 20 21:16,  By: Javier Clavijo\n",
      "Marker name: PFD2, Marker type: .\n",
      "Observer : Raul Clavijo,  Agency: RyJClavijo\n",
      "Rec#: 3E302069,  Type: PromarkXCM,  Vers: \n",
      "Antenna # : 200721052,  Type : NAP100\n",
      "Position      (XYZ,m) : (0.0000, 0.0000, 0.0000).\n",
      "Antenna Delta (HEN,m) : (1.4990, 0.0000, 0.0000).\n",
      "GPS Observation types (3):\n",
      " Type #01 (L1C) L1 GPSC/A phase\n",
      " Type #02 (C1C) L1 GPSC/A pseudorange\n",
      " Type #03 (D1C) L1 GPSC/A doppler\n",
      "R2ObsTypes: L1 C1 D1 \n",
      "mapSysR2toR3ObsID[G] C1:C1C D1:D1C L1:L1C \n",
      "Time of first obs 2020/01/24 19:37:31.000 GPS\n",
      "(This header is VALID)\n",
      "---------------------------------- OPTIONAL ----------------------------------\n",
      "Signal Strenth Unit = \n",
      "Interval =   1.000\n",
      "Time of Last Obs 2020/01/25 00:21:47.000 GPS\n",
      "Wavelength factor L1: 1 L2: 0\n",
      "Number of Satellites with data : 3\n",
      " PRN and number of observations for each obs type:\n",
      " GPS     L1C    C1C    D1C\n",
      " G01   17050  17050  17050\n",
      " G03   15742  15742  15742\n",
      " G04   11903  11903  11903\n",
      " G06    1223   1223   1223\n",
      " G07     263    263    263\n",
      " G08    9538   9538   9538\n",
      " G09    7444   7444   7444\n",
      " G10    5098   5098   5098\n",
      " G11   15784  15784  15784\n",
      " G14   13262  13262  13262\n",
      " G16     143    143    143\n",
      " G17    6922   6922   6922\n",
      " G19    3435   3435   3435\n",
      " G20     291    291    291\n",
      " G22   17050  17050  17050\n",
      " G23   10708  10708  10708\n",
      " G26     743    743    743\n",
      " G27    6173   6173   6173\n",
      " G31   13711  13711  13711\n",
      " G32    9296   9296   9296\n",
      "-------------------------------- END OF HEADER --------------------------------\n",
      "\n",
      "Reading the observation data...\n",
      "Computed interval  1.00 seconds.\n",
      "Computed first epoch: 2020/01/24 19:37:31 = 2089 5 502651.000 GPS\n",
      "Computed last  epoch: 2020/01/25 00:21:47 = 2089 6 519707.000 GPS\n",
      "Computed time span: 4h 44m 16s = 17056 seconds.\n",
      "There were 17057 epochs (100.00% of 17057 possible epochs in this timespan) and 0 inline header blocks.\n",
      "\n",
      "      Summary of data available in this file: (Spans are based on times and interval)\n",
      "System G = GPS:\n",
      " Sat\\OT: L1C    C1C    D1C   Span             Begin time - End time\n",
      " G01   17050  17050  17050  17057  2020/01/24 19:37:31 - 2020/01/25 00:21:47\n",
      " G03   15742  15742  15742  15749  2020/01/24 19:59:19 - 2020/01/25 00:21:47\n",
      " G04   11902  11903  11903  11910  2020/01/24 21:03:18 - 2020/01/25 00:21:47\n",
      " G06    1222   1223   1223   1230  2020/01/25 00:01:18 - 2020/01/25 00:21:47\n",
      " G07     263    263    263    269  2020/01/25 00:17:19 - 2020/01/25 00:21:47\n",
      " G08    9487   9538   9538   9538  2020/01/24 19:37:31 - 2020/01/24 22:16:28\n",
      " G09    7443   7444   7444   7452  2020/01/24 22:17:36 - 2020/01/25 00:21:47\n",
      " G10    5098   5098   5098   5098  2020/01/24 19:37:31 - 2020/01/24 21:02:28\n",
      " G11   15784  15784  15784  15784  2020/01/24 19:37:31 - 2020/01/25 00:00:34\n",
      " G14   13262  13262  13262  13262  2020/01/24 19:37:31 - 2020/01/24 23:18:32\n",
      " G16     143    143    143    149  2020/01/25 00:19:19 - 2020/01/25 00:21:47\n",
      " G17    6921   6922   6922   6923  2020/01/24 22:13:12 - 2020/01/25 00:08:34\n",
      " G19    3435   3435   3435   3436  2020/01/24 23:19:18 - 2020/01/25 00:16:33\n",
      " G20     291    291    291    291  2020/01/24 19:37:31 - 2020/01/24 19:42:21\n",
      " G22   17050  17050  17050  17057  2020/01/24 19:37:31 - 2020/01/25 00:21:47\n",
      " G23   10708  10708  10708  10716  2020/01/24 21:23:12 - 2020/01/25 00:21:47\n",
      " G26     742    743    743    749  2020/01/25 00:09:19 - 2020/01/25 00:21:47\n",
      " G27    6159   6173   6173   6173  2020/01/24 19:37:31 - 2020/01/24 21:20:23\n",
      " G31   13675  13711  13711  14355  2020/01/24 20:19:19 - 2020/01/25 00:18:33\n",
      " G32    9296   9296   9296   9296  2020/01/24 19:37:31 - 2020/01/24 22:12:26\n",
      "TOTAL 165673 165779 165779\n",
      "\n",
      "RinSum timing: processing 0.501 sec, wallclock: 1 sec.\n"
     ]
    }
   ],
   "source": [
    "rinex_info2 = !RinSum /proyecto/PFD20240.20o\n",
    "print('\\n'.join(rinex_info2))"
   ]
  },
  {
   "cell_type": "code",
   "execution_count": 44,
   "metadata": {},
   "outputs": [
    {
     "name": "stdout",
     "output_type": "stream",
     "text": [
      "Epoca inicial:  ('2020', '01', '24', '19', '37', '31')\n",
      "Epoca final:  ('2020', '01', '25', '00', '21', '47')\n"
     ]
    }
   ],
   "source": [
    "for i in rinex_info2:\n",
    "    if m := re.match(r'.*first\\s+epoch:\\s+(\\d+).(\\d+).(\\d+).*?(\\d+).(\\d+).(\\d+).*',i):\n",
    "        ini_time2 = totime((int(i) for i in m.groups()))\n",
    "        print('Epoca inicial: ',m.groups())\n",
    "    if m := re.match(r'.*last\\s+epoch:\\s+(\\d+).(\\d+).(\\d+).*?(\\d+).(\\d+).(\\d+).*',i):\n",
    "        end_time2 = totime((int(i) for i in m.groups()))\n",
    "        print('Epoca final: ',m.groups())"
   ]
  },
  {
   "cell_type": "code",
   "execution_count": 59,
   "metadata": {},
   "outputs": [],
   "source": [
    "punto = '{}/splits/{}'.format(FILEFLD,splitfiles[4][1])\n",
    "base = '{}/{}'.format(FILEFLD,splitfiles[2][0])\n",
    "#nav = '{}/{}'.format(FILEFLD,splitfiles[0][0])[:-1] + 'n'\n",
    "#eph = '{} {} {}'.format(*set(sp3files))"
   ]
  },
  {
   "cell_type": "code",
   "execution_count": 60,
   "metadata": {},
   "outputs": [
    {
     "name": "stdout",
     "output_type": "stream",
     "text": [
      "rnx2rtkp -k proyecto/conf2.cfg proyecto/splits/PFD20241.20o proyecto/PFD10240.20o proyecto/igm10240.20n sp3/igs20896.sp3 sp3/igs20894.sp3 sp3/igs20895.sp3 -o Sesion2A.txt\n",
      "rnx2rtkp -b -k proyecto/conf2.cfg proyecto/splits/PFD20241.20o proyecto/PFD10240.20o proyecto/igm10240.20n sp3/igs20896.sp3 sp3/igs20894.sp3 sp3/igs20895.sp3 -o Sesion2A-b.txt\n",
      "                                        \r"
     ]
    }
   ],
   "source": [
    "!echo rnx2rtkp -k {FILEFLD}/conf2.cfg {punto} {base} {nav} {eph} -o Sesion2A.txt\n",
    "!rnx2rtkp -k {FILEFLD}/conf2.cfg {punto} {base} {nav} {eph} -o Sesion2A.txt\n",
    "\n",
    "!echo rnx2rtkp -b -k {FILEFLD}/conf2.cfg {punto} {base} {nav} {eph} -o Sesion2A-b.txt\n",
    "!rnx2rtkp -b -k {FILEFLD}/conf2.cfg {punto} {base} {nav} {eph} -o Sesion2A-b.txt"
   ]
  },
  {
   "cell_type": "code",
   "execution_count": 61,
   "metadata": {},
   "outputs": [],
   "source": [
    "punto = '{}/splits/{}'.format(FILEFLD,splitfiles[5][1])"
   ]
  },
  {
   "cell_type": "code",
   "execution_count": 62,
   "metadata": {},
   "outputs": [
    {
     "name": "stdout",
     "output_type": "stream",
     "text": [
      "rnx2rtkp -k proyecto/conf2.cfg proyecto/splits/PFD20242.20o proyecto/PFD10240.20o proyecto/igm10240.20n sp3/igs20896.sp3 sp3/igs20894.sp3 sp3/igs20895.sp3 -o Sesion2B.txt\n",
      "rnx2rtkp -b -k proyecto/conf2.cfg proyecto/splits/PFD20242.20o proyecto/PFD10240.20o proyecto/igm10240.20n sp3/igs20896.sp3 sp3/igs20894.sp3 sp3/igs20895.sp3 -o Sesion2B-b.txt\n",
      "                                        \r"
     ]
    }
   ],
   "source": [
    "!echo rnx2rtkp -k {FILEFLD}/conf2.cfg {punto} {base} {nav} {eph} -o Sesion2B.txt\n",
    "!rnx2rtkp -k {FILEFLD}/conf2.cfg {punto} {base} {nav} {eph} -o Sesion2B.txt\n",
    "\n",
    "!echo rnx2rtkp -b -k {FILEFLD}/conf2.cfg {punto} {base} {nav} {eph} -o Sesion2B-b.txt\n",
    "!rnx2rtkp -b -k {FILEFLD}/conf2.cfg {punto} {base} {nav} {eph} -o Sesion2B-b.txt"
   ]
  },
  {
   "cell_type": "code",
   "execution_count": 63,
   "metadata": {},
   "outputs": [],
   "source": [
    "punto = '{}/{}'.format(FILEFLD,splitfiles[4][0])"
   ]
  },
  {
   "cell_type": "code",
   "execution_count": 64,
   "metadata": {},
   "outputs": [
    {
     "name": "stdout",
     "output_type": "stream",
     "text": [
      "rnx2rtkp -k proyecto/conf2.cfg proyecto/PFD20240.20o proyecto/PFD10240.20o proyecto/igm10240.20n sp3/igs20896.sp3 sp3/igs20894.sp3 sp3/igs20895.sp3 -o Sesion2C.txt\n",
      "rnx2rtkp -b -k proyecto/conf2.cfg proyecto/PFD20240.20o proyecto/PFD10240.20o proyecto/igm10240.20n sp3/igs20896.sp3 sp3/igs20894.sp3 sp3/igs20895.sp3 -o Sesion2C-b.txt\n",
      "                                        \r"
     ]
    }
   ],
   "source": [
    "!echo rnx2rtkp -k {FILEFLD}/conf2.cfg {punto} {base} {nav} {eph} -o Sesion2C.txt\n",
    "!rnx2rtkp -k {FILEFLD}/conf2.cfg {punto} {base} {nav} {eph} -o Sesion2C.txt\n",
    "\n",
    "!echo rnx2rtkp -b -k {FILEFLD}/conf2.cfg {punto} {base} {nav} {eph} -o Sesion2C-b.txt\n",
    "!rnx2rtkp -b -k {FILEFLD}/conf2.cfg {punto} {base} {nav} {eph} -o Sesion2C-b.txt"
   ]
  },
  {
   "cell_type": "code",
   "execution_count": 65,
   "metadata": {},
   "outputs": [],
   "source": [
    "sess2A = pd.read_fwf('Sesion2A.txt',comment='%',names=cols,index=None)\n",
    "sess2A = sess2A.set_index((sess2A.date + 'T' + sess2A.GPST).map(lambda x: np.datetime64(x.replace('/','-'))))\n",
    "sess2B = pd.read_fwf('Sesion2B.txt',comment='%',names=cols,index=None)\n",
    "sess2B = sess2B.set_index((sess2B.date + 'T' + sess2B.GPST).map(lambda x: np.datetime64(x.replace('/','-'))))\n",
    "sess2C = pd.read_fwf('Sesion2C.txt',comment='%',names=cols,index=None)\n",
    "sess2C = sess2C.set_index((sess2C.date + 'T' + sess2C.GPST).map(lambda x: np.datetime64(x.replace('/','-'))))"
   ]
  },
  {
   "cell_type": "code",
   "execution_count": 66,
   "metadata": {},
   "outputs": [
    {
     "name": "stdout",
     "output_type": "stream",
     "text": [
      "session2A:-34.945944638,session2B:-34.945944602,session2C:-34.945944629\n"
     ]
    },
    {
     "data": {
      "image/png": "[encoded data removed]",
      "text/plain": [
       "<Figure size 432x288 with 1 Axes>"
      ]
     },
     "metadata": {
      "needs_background": "light"
     },
     "output_type": "display_data"
    }
   ],
   "source": [
    "fig,ax = plt.subplots()\n",
    "ax.plot(sess2A.index,(sess2A.latitude * DEG2RAD * 6.4e6).values)\n",
    "ax.plot(sess2B.index,(sess2B.latitude * DEG2RAD * 6.4e6).values)\n",
    "ax.plot(sess2C.index,(sess2C.latitude * DEG2RAD * 6.4e6).values)\n",
    "\n",
    "print('session2A:{},session2B:{},session2C:{}'.format(*[i.latitude.median() for i in (sess2A,sess2B,sess2C)]))\n",
    "\n",
    "plt.show()"
   ]
  },
  {
   "cell_type": "code",
   "execution_count": 67,
   "metadata": {},
   "outputs": [
    {
     "name": "stdout",
     "output_type": "stream",
     "text": [
      "session2A:-58.782975801,session2B:-58.782975755,session2C:-58.782975786\n"
     ]
    },
    {
     "data": {
      "image/png": "[encoded data removed]",
      "text/plain": [
       "<Figure size 432x288 with 1 Axes>"
      ]
     },
     "metadata": {
      "needs_background": "light"
     },
     "output_type": "display_data"
    }
   ],
   "source": [
    "reflat = sess2A.latitude.median()\n",
    "cosreflat = cos(reflat * DEG2RAD)\n",
    "\n",
    "(sess2A.longitude * DEG2RAD * cosreflat * 6.4e6).plot()\n",
    "(sess2B.longitude * DEG2RAD * cosreflat * 6.4e6).plot()\n",
    "(sess2C.longitude * DEG2RAD * cosreflat * 6.4e6).plot()\n",
    "\n",
    "print('session2A:{},session2B:{},session2C:{}'.format(*[i.longitude.median() for i in (sess2A,sess2B,sess2C)]))\n",
    "\n",
    "plt.show()"
   ]
  },
  {
   "cell_type": "code",
   "execution_count": 68,
   "metadata": {},
   "outputs": [
    {
     "name": "stdout",
     "output_type": "stream",
     "text": [
      "session2A:40.2526,session2B:40.2388,session2C:40.2461\n"
     ]
    },
    {
     "data": {
      "image/png": "[encoded data removed]",
      "text/plain": [
       "<Figure size 432x288 with 1 Axes>"
      ]
     },
     "metadata": {
      "needs_background": "light"
     },
     "output_type": "display_data"
    }
   ],
   "source": [
    "fig,ax = plt.subplots()\n",
    "ax.plot(sess2A.index,(sess2A.height).values)\n",
    "ax.plot(sess2B.index,(sess2B.height).values)\n",
    "ax.plot(sess2C.index,(sess2C.height).values)\n",
    "\n",
    "print('session2A:{},session2B:{},session2C:{}'.format(*[i.height.median() for i in (sess2A,sess2B,sess2C)]))\n",
    "\n",
    "plt.show()"
   ]
  },
  {
   "cell_type": "code",
   "execution_count": 69,
   "metadata": {},
   "outputs": [],
   "source": [
    "PFD2_A = pd.Series({'latitud':sess2A.latitude[-1],'longitud':sess2A.longitude[-1],'altura':sess2A.height[-1]})\n",
    "PFD2_B = pd.Series({'latitud':sess2B.latitude[-1],'longitud':sess2B.longitude[-1],'altura':sess2B.height[-1]})\n",
    "PFD2_C = pd.Series({'latitud':sess2C.latitude[-1],'longitud':sess2C.longitude[-1],'altura':sess2C.height[-1]})"
   ]
  },
  {
   "cell_type": "code",
   "execution_count": 71,
   "metadata": {},
   "outputs": [
    {
     "name": "stdout",
     "output_type": "stream",
     "text": [
      "5611175.824\t6132693.338 40.2526\n",
      "5611175.826\t6132693.343 40.2476\n",
      "5611175.824\t6132693.340 40.2507\n"
     ]
    }
   ],
   "source": [
    "sesiones_string = \\\n",
    "\"\"\"\n",
    "{longitud} {latitud} {altura}\"\"\".format(**PFD2_A) +\\\n",
    "\"\"\"\n",
    "{longitud} {latitud} {altura}\"\"\".format(**PFD2_B) +\\\n",
    "\"\"\"\n",
    "{longitud} {latitud} {altura}\"\"\".format(**PFD2_C) +\\\n",
    "\"\"\"\n",
    "EOF\n",
    "\"\"\"\n",
    "\n",
    "!proj -f %.3f +proj=tmerc +ellps=GRS80 +lat_0=-90 +lon_0=-60 +x_0=5500000 +no_defs << EOF $sesiones_string"
   ]
  },
  {
   "cell_type": "code",
   "execution_count": 57,
   "metadata": {},
   "outputs": [
    {
     "name": "stdout",
     "output_type": "stream",
     "text": [
      "-34.945944632  -58.782975814    40.250\n"
     ]
    }
   ],
   "source": [
    "print('{latitud:13.9f} {longitud:14.9f} {altura:9.3f}'.format(**PFD2_A))"
   ]
  },
  {
   "cell_type": "markdown",
   "metadata": {},
   "source": [
    "# Antenas:\n",
    "\n",
    "https://www.ngs.noaa.gov/ANTCAL/LoadFile?file=ASH110454_NONE.atx\n",
    "\n",
    "https://kb.igs.org/hc/en-us/articles/216104678-ANTEX-format-description\n",
    "\n",
    "\n",
    "```      \n",
    "                                                            START OF ANTENNA    \n",
    "NAP100          NONE                                        TYPE / SERIAL NO    \n",
    "FIELD               JJC                      0    02-DIC-20 METH / BY / # / DATE\n",
    "     0.0                                                    DAZI                \n",
    "     0.0  80.0   5.0                                        ZEN1 / ZEN2 / DZEN  \n",
    "     1                                                      # OF FREQUENCIES    \n",
    "CONVERTED FROM RELATIVE NGS ANTENNA CALIBRATIONS            COMMENT             \n",
    "   G01                                                      START OF FREQUENCY  \n",
    "      0.00      0.00     73.00                              NORTH / EAST / UP   \n",
    "   G01                                                      END OF FREQUENCY    \n",
    "                                                            END OF ANTENNA      \n",
    "```      \n",
    "                                                            \n",
    "\n"
   ]
  },
  {
   "cell_type": "code",
   "execution_count": null,
   "metadata": {},
   "outputs": [],
   "source": []
  }
 ],
 "metadata": {
  "kernelspec": {
   "display_name": "Python 3",
   "language": "python",
   "name": "python3"
  },
  "language_info": {
   "codemirror_mode": {
    "name": "ipython",
    "version": 3
   },
   "file_extension": ".py",
   "mimetype": "text/x-python",
   "name": "python",
   "nbconvert_exporter": "python",
   "pygments_lexer": "ipython3",
   "version": "3.9.2"
  }
 },
 "nbformat": 4,
 "nbformat_minor": 4
}
