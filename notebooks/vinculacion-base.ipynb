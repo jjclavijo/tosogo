{
 "cells": [
  {
   "cell_type": "code",
   "execution_count": 2,
   "metadata": {},
   "outputs": [],
   "source": [
    "!ln -s /proyecto"
   ]
  },
  {
   "cell_type": "code",
   "execution_count": 3,
   "metadata": {},
   "outputs": [],
   "source": [
    "import pyconf"
   ]
  },
  {
   "cell_type": "code",
   "execution_count": 4,
   "metadata": {},
   "outputs": [
    {
     "data": {
      "application/vnd.jupyter.widget-view+json": {
       "model_id": "62930444bf4f4a3d94624c2b4eaf7b5f",
       "version_major": 2,
       "version_minor": 0
      },
      "text/plain": [
       "GridspecLayout(children=(Dropdown(description='pos1-posmode', index=3, layout=Layout(grid_area='widget001'), o…"
      ]
     },
     "metadata": {},
     "output_type": "display_data"
    }
   ],
   "source": [
    "pyconf.formulario"
   ]
  },
  {
   "cell_type": "code",
   "execution_count": 138,
   "metadata": {},
   "outputs": [],
   "source": [
    "import numbers\n",
    "\n",
    "with open('/proyecto/conf.cfg','w') as f:\n",
    "    for i in pyconf.formulario.children:\n",
    "        try:\n",
    "            if isinstance(i.value, (list, tuple)):\n",
    "                value = sum([int(v.split(':')[0]) for v in i.value if v.split(':')[0] != ''])\n",
    "            else:\n",
    "                value = i.value.split(':')[-1]\n",
    "                \n",
    "            try:\n",
    "                if int(value) < 0: # -1 is blank\n",
    "                    value = ''\n",
    "            except ValueError:\n",
    "                pass\n",
    "            \n",
    "        except AttributeError:\n",
    "            value = i.value\n",
    "            try:\n",
    "                if int(value) < 0: # -1 is blank\n",
    "                    value = ''\n",
    "            except ValueError:\n",
    "                pass\n",
    "\n",
    "        print('{} ={}'.format(i.description,value),file=f)"
   ]
  },
  {
   "cell_type": "code",
   "execution_count": 6,
   "metadata": {},
   "outputs": [
    {
     "name": "stdout",
     "output_type": "stream",
     "text": [
      "conf.cfg      igm10240.20o    \u001b[0m\u001b[01;34mMariano\u001b[0m/      PFD1.CAR      PFD2.CAR\n",
      "\u001b[01;34migm1\u001b[0m/         localPFD1.yaml  PFD10240.20n  PFD20240.20n  \u001b[01;34mrtklib\u001b[0m/\n",
      "igm10240.20n  localPFD2.yaml  PFD10240.20o  PFD20240.20o\n"
     ]
    }
   ],
   "source": [
    "ls /proyecto/"
   ]
  },
  {
   "cell_type": "code",
   "execution_count": 15,
   "metadata": {},
   "outputs": [],
   "source": [
    "import pandas as pd"
   ]
  },
  {
   "cell_type": "code",
   "execution_count": 139,
   "metadata": {},
   "outputs": [
    {
     "name": "stdout",
     "output_type": "stream",
     "text": [
      "pos1-posmode =static\n",
      "pos1-frequency =l1\n",
      "pos1-soltype =combined\n",
      "pos1-elmask =10\n",
      "pos1-snrmask =\n",
      "pos1-dynamics =on\n",
      "pos1-tidecorr =on\n",
      "pos1-ionoopt =off\n",
      "pos1-tropopt =saas\n",
      "pos1-sateph =brdc\n",
      "pos1-exclsats =\n",
      "pos1-navsys =1\n",
      "pos2-armode =fix-and-hold\n",
      "pos2-gloarmode =on\n",
      "pos2-arthres =5\n",
      "pos2-arlockcnt =60\n",
      "pos2-arelmask =20\n",
      "pos2-aroutcnt =1\n",
      "pos2-arminfix =120\n",
      "pos2-elmaskhold =15\n",
      "pos2-slipthres =0.05\n",
      "pos2-maxage =30\n",
      "pos2-rejionno =30\n",
      "pos2-niter =5\n",
      "pos2-baselen =0\n",
      "pos2-basesig =0\n",
      "out-solformat =llh\n",
      "out-outhead =on\n",
      "out-outopt =on\n",
      "out-timesys =gpst\n",
      "out-timeform =hms\n",
      "out-timendec =3\n",
      "out-degform =deg\n",
      "out-fieldsep =\n",
      "out-height =ellipsoidal\n",
      "out-geoid =internal\n",
      "out-solstatic =all\n",
      "out-nmeaintv1 =0\n",
      "out-nmeaintv2 =0\n",
      "out-outstat =residual\n",
      "stats-errratio =100\n",
      "stats-errphase =0.003\n",
      "stats-errphaseel =0.003\n",
      "stats-errphasebl =0\n",
      "stats-errdoppler =10\n",
      "stats-stdbias =30\n",
      "stats-stdiono =0.03\n",
      "stats-stdtrop =0.3\n",
      "stats-prnaccelh =0.1\n",
      "stats-prnaccelv =0.01\n",
      "stats-prnbias =0.0001\n",
      "stats-prniono =0.001\n",
      "stats-prntrop =0.0001\n",
      "stats-clkstab =5e-12\n",
      "ant1-postype =single\n",
      "ant1-pos1 =0\n",
      "ant1-pos2 =0\n",
      "ant1-pos3 =0\n",
      "ant1-anttype =*\n",
      "ant1-antdele =0\n",
      "ant1-antdeln =0\n",
      "ant1-antdelu =0\n",
      "ant2-postype =posfile\n",
      "ant2-pos1 =0\n",
      "ant2-pos2 =0\n",
      "ant2-pos3 =0\n",
      "ant2-anttype =*\n",
      "ant2-antdele =0\n",
      "ant2-antdeln =0\n",
      "ant2-antdelu =0\n",
      "misc-timeinterp =on\n",
      "misc-sbasatsel =0\n",
      "file-satantfile =/rtklib/data/igs05.atx\n",
      "file-rcvantfile =/rtklib/data/igs05.atx\n",
      "file-staposfile =/rtklib/data/ramsac.pos\n",
      "file-geoidfile =\n",
      "file-dcbfile =/rtklib/data/P1C1_ALL.DCB\n",
      "file-tempdir =\n",
      "file-geexefile =\n",
      "file-solstatfile =\n",
      "file-tracefile =\n"
     ]
    }
   ],
   "source": [
    "cat /proyecto/conf.cfg"
   ]
  },
  {
   "cell_type": "code",
   "execution_count": 37,
   "metadata": {},
   "outputs": [],
   "source": [
    "DEG2RAD = 3.14159 / 180"
   ]
  },
  {
   "cell_type": "code",
   "execution_count": 39,
   "metadata": {},
   "outputs": [],
   "source": [
    "from math import cos"
   ]
  },
  {
   "cell_type": "code",
   "execution_count": 43,
   "metadata": {},
   "outputs": [
    {
     "name": "stdout",
     "output_type": "stream",
     "text": [
      "# RinSum, part of the GPS Toolkit, Ver 4.1 8/26/15, Run 2020/11/26 22:06:17\n",
      "+++++++++++++ RinSum summary of Rinex obs file /proyecto/PFD10240.20o +++++++++++++\n",
      "---------------------------------- REQUIRED ----------------------------------\n",
      "Rinex Version  2.11,  File type O,  System G (GPS).\n",
      "Prgm: JJC Open Gps Read,  Run: 22 - OCT - 20 21:34,  By: Javier Clavijo\n",
      "Marker name: PFD1, Marker type: .\n",
      "Observer : Raul Clavijo,  Agency: RyJClavijo\n",
      "Rec#: 3E302016,  Type: PromarkXCM,  Vers: \n",
      "Antenna # : 200803216,  Type : NAP100\n",
      "Position      (XYZ,m) : (0.0000, 0.0000, 0.0000).\n",
      "Antenna Delta (HEN,m) : (1.3780, 0.0000, 0.0000).\n",
      "GPS Observation types (3):\n",
      " Type #01 (L1C) L1 GPSC/A phase\n",
      " Type #02 (C1C) L1 GPSC/A pseudorange\n",
      " Type #03 (D1C) L1 GPSC/A doppler\n",
      "R2ObsTypes: L1 C1 D1 \n",
      "mapSysR2toR3ObsID[G] C1:C1C D1:D1C L1:L1C \n",
      "Time of first obs 2020/01/24 18:35:15.000 GPS\n",
      "(This header is VALID)\n",
      "---------------------------------- OPTIONAL ----------------------------------\n",
      "Signal Strenth Unit = \n",
      "Interval =   1.000\n",
      "Time of Last Obs 2020/01/24 23:48:15.000 GPS\n",
      "Wavelength factor L1: 1 L2: 0\n",
      "Number of Satellites with data : 3\n",
      " PRN and number of observations for each obs type:\n",
      " GPS     L1C    C1C    D1C\n",
      " G01   16469  16469  16469\n",
      " G03   13826  13826  13826\n",
      " G04    9873   9873   9873\n",
      " G08   13303  13303  13303\n",
      " G09    5433   5433   5433\n",
      " G10    8720   8720   8720\n",
      " G11   18518  18518  18518\n",
      " G14   17028  17028  17028\n",
      " G16    2383   2383   2383\n",
      " G17    5678   5678   5678\n",
      " G19    1707   1707   1707\n",
      " G20    4029   4029   4029\n",
      " G21    1897   1897   1897\n",
      " G22   16913  16913  16913\n",
      " G23    8666   8666   8666\n",
      " G27   10062  10062  10062\n",
      " G31   12536  12536  12536\n",
      " G32   13060  13060  13060\n",
      "-------------------------------- END OF HEADER --------------------------------\n",
      "\n",
      "Reading the observation data...\n",
      "Computed interval  1.00 seconds.\n",
      "Computed first epoch: 2020/01/24 18:35:15 = 2089 5 498915.000 GPS\n",
      "Computed last  epoch: 2020/01/24 23:48:15 = 2089 5 517695.000 GPS\n",
      "Computed time span: 5h 13m 0s = 18780 seconds.\n",
      "There were 18781 epochs (100.00% of 18781 possible epochs in this timespan) and 0 inline header blocks.\n",
      "\n",
      "      Summary of data available in this file: (Spans are based on times and interval)\n",
      "System G = GPS:\n",
      " Sat\\OT: L1C    C1C    D1C   Span             Begin time - End time\n",
      " G01   16468  16469  16469  16473  2020/01/24 19:13:43 - 2020/01/24 23:48:15\n",
      " G03   13826  13826  13826  13827  2020/01/24 19:57:49 - 2020/01/24 23:48:15\n",
      " G04    9873   9873   9873   9873  2020/01/24 21:03:43 - 2020/01/24 23:48:15\n",
      " G08   13303  13303  13303  13304  2020/01/24 18:35:15 - 2020/01/24 22:16:58\n",
      " G09    5432   5433   5433   5433  2020/01/24 22:17:43 - 2020/01/24 23:48:15\n",
      " G10    8685   8720   8720   8865  2020/01/24 18:35:15 - 2020/01/24 21:02:59\n",
      " G11   18518  18518  18518  18519  2020/01/24 18:39:37 - 2020/01/24 23:48:15\n",
      " G14   17028  17028  17028  17029  2020/01/24 18:35:15 - 2020/01/24 23:19:03\n",
      " G16    2383   2383   2383   2383  2020/01/24 18:35:15 - 2020/01/24 19:14:57\n",
      " G17    5677   5678   5678   5679  2020/01/24 22:13:37 - 2020/01/24 23:48:15\n",
      " G19    1706   1707   1707   1707  2020/01/24 23:19:49 - 2020/01/24 23:48:15\n",
      " G20    3924   4029   4029   4060  2020/01/24 18:35:15 - 2020/01/24 19:42:54\n",
      " G21    1836   1897   1897   2095  2020/01/24 18:35:15 - 2020/01/24 19:10:09\n",
      " G22   16876  16913  16913  17409  2020/01/24 18:58:07 - 2020/01/24 23:48:15\n",
      " G23    8666   8666   8666   8667  2020/01/24 21:23:49 - 2020/01/24 23:48:15\n",
      " G27   10062  10062  10062  10063  2020/01/24 18:35:15 - 2020/01/24 21:22:57\n",
      " G31   12535  12536  12536  12537  2020/01/24 20:19:19 - 2020/01/24 23:48:15\n",
      " G32   13060  13060  13060  13064  2020/01/24 18:35:15 - 2020/01/24 22:12:58\n",
      "TOTAL 179858 180101 180101\n",
      "\n",
      "RinSum timing: processing 0.806 sec, wallclock: 1 sec.\n"
     ]
    }
   ],
   "source": [
    "!RinSum /proyecto/PFD10240.20o"
   ]
  },
  {
   "cell_type": "code",
   "execution_count": 48,
   "metadata": {},
   "outputs": [],
   "source": [
    "import numpy as np"
   ]
  },
  {
   "cell_type": "code",
   "execution_count": 69,
   "metadata": {},
   "outputs": [],
   "source": [
    "inicio = np.timedelta64(18,'h') + np.timedelta64(35,'m') + np.timedelta64(15,'s') \n",
    "final = np.timedelta64(23,'h') + np.timedelta64(48,'m') + np.timedelta64(15,'s') "
   ]
  },
  {
   "cell_type": "code",
   "execution_count": 78,
   "metadata": {},
   "outputs": [],
   "source": [
    "def tiempo2hms(tiempo):\n",
    "    h = tiempo.astype('timedelta64[h]')\n",
    "    m = tiempo.astype('timedelta64[m]') - tiempo.astype('timedelta64[h]')\n",
    "    s = tiempo.astype('timedelta64[s]') - tiempo.astype('timedelta64[m]')\n",
    "    return h.astype(int),m.astype(int),s.astype(int)"
   ]
  },
  {
   "cell_type": "code",
   "execution_count": 84,
   "metadata": {},
   "outputs": [],
   "source": [
    "inicio_st = '{}:{}:{}'.format(*tiempo2hms(inicio))\n",
    "medio_st = '2020,01,24,{},{},{}'.format(*tiempo2hms(inicio+(final-inicio)/2))\n",
    "duracion_st = '{}'.format(((final-inicio)/2).astype('timedelta64[s]').astype('int'))"
   ]
  },
  {
   "cell_type": "code",
   "execution_count": 90,
   "metadata": {},
   "outputs": [
    {
     "name": "stdout",
     "output_type": "stream",
     "text": [
      "# RinEdit, part of the GPS Toolkit, Ver 2.4 9/23/15 rev, Run 2020/11/27 00:18:46\n",
      "   End time --end is 2089,508305.000000 = 2020,1,24,21,11,45\n",
      "Reading header...\n",
      "# Header ObsIDs GAL (4): L1B C1B D1B S1B\n",
      "# Header ObsIDs GPS (9): L1C L2W C1C C1W C2W D1C D2W S1C S2W\n",
      "# Header ObsIDs GLO (9): L1C L2C C1C C1P C2P D1C D2C S1C S2C\n",
      "# Header ObsIDs GEO (4): L1C C1C D1C S1C\n",
      "Reading observations...\n",
      " Opened output file /proyecto/igm10241.20o at time 2020/01/24 18:00:00 = 2089 496800.000 GPS\n",
      " Close output file.\n",
      "RinEdit timing: processing 6.887 sec, wallclock: 7 sec.\n",
      "# RinEdit, part of the GPS Toolkit, Ver 2.4 9/23/15 rev, Run 2020/11/27 00:18:53\n",
      "   Begin time --begin is 2089,508305.000000 = 2020,1,24,21,11,45\n",
      "Reading header...\n",
      "# Header ObsIDs GAL (4): L1B C1B D1B S1B\n",
      "# Header ObsIDs GPS (9): L1C L2W C1C C1W C2W D1C D2W S1C S2W\n",
      "# Header ObsIDs GLO (9): L1C L2C C1C C1P C2P D1C D2C S1C S2C\n",
      "# Header ObsIDs GEO (4): L1C C1C D1C S1C\n",
      "Reading observations...\n",
      " Opened output file /proyecto/igm10242.20o at time 2020/01/24 21:11:45 = 2089 508305.000 GPS\n",
      " Close output file.\n",
      "RinEdit timing: processing 13.372 sec, wallclock: 13 sec.\n"
     ]
    }
   ],
   "source": [
    "!RinEdit --IF /proyecto/igm10240.20o --OF /proyecto/igm10241.20o --TE $medio_st\n",
    "!RinEdit --IF /proyecto/igm10240.20o --OF /proyecto/igm10242.20o --TB $medio_st"
   ]
  },
  {
   "cell_type": "code",
   "execution_count": 149,
   "metadata": {},
   "outputs": [
    {
     "name": "stdout",
     "output_type": "stream",
     "text": []
    },
    {
     "name": "stdout",
     "output_type": "stream",
     "text": [
      "                                        \r"
     ]
    }
   ],
   "source": [
    "!rnx2rtkp -k /proyecto/conf.cfg /proyecto/PFD10240.20o /proyecto/igm10241.20o /proyecto/igm10240.20n -o SesionA.txt"
   ]
  },
  {
   "cell_type": "code",
   "execution_count": 150,
   "metadata": {},
   "outputs": [
    {
     "name": "stdout",
     "output_type": "stream",
     "text": []
    },
    {
     "name": "stdout",
     "output_type": "stream",
     "text": [
      "                                        \r"
     ]
    }
   ],
   "source": [
    "!rnx2rtkp -k /proyecto/conf.cfg /proyecto/PFD10240.20o /proyecto/igm10242.20o /proyecto/igm10240.20n -o SesionB.txt"
   ]
  },
  {
   "cell_type": "code",
   "execution_count": 151,
   "metadata": {},
   "outputs": [
    {
     "name": "stdout",
     "output_type": "stream",
     "text": []
    },
    {
     "name": "stdout",
     "output_type": "stream",
     "text": [
      "                                        \r"
     ]
    }
   ],
   "source": [
    "!rnx2rtkp -k /proyecto/conf.cfg /proyecto/PFD10240.20o /proyecto/igm10240.20o /proyecto/igm10240.20n -o SesionC.txt"
   ]
  },
  {
   "cell_type": "code",
   "execution_count": 152,
   "metadata": {},
   "outputs": [],
   "source": [
    "cols = [\"date\",\"GPST\", \"latitude\", \"longitude\",\"height\",\"Q\",\"ns\",\"sdn\",\"sde\",\"sdu\",\"sdne\",\"sdeu\",\"sdun\",\"age\",\"ratio\"]\n",
    "#kine = pd.read_fwf('/proyecto/salida-kine2.txt',comment='%',names=cols,index=None)\n",
    "sessA = pd.read_fwf('SesionA.txt',comment='%',names=cols,index=None).\\\n",
    "          set_index((sessA.date + 'T' + sessA.GPST).map(lambda x: np.datetime64(x.replace('/','-'))))\n",
    "sessB = pd.read_fwf('SesionB.txt',comment='%',names=cols,index=None).\\\n",
    "          set_index((sessB.date + 'T' + sessB.GPST).map(lambda x: np.datetime64(x.replace('/','-'))))\n",
    "sessC = pd.read_fwf('SesionC.txt',comment='%',names=cols,index=None).\\\n",
    "          set_index((sessC.date + 'T' + sessC.GPST).map(lambda x: np.datetime64(x.replace('/','-'))))"
   ]
  },
  {
   "cell_type": "code",
   "execution_count": 153,
   "metadata": {},
   "outputs": [],
   "source": [
    "import matplotlib.pyplot as plt"
   ]
  },
  {
   "cell_type": "code",
   "execution_count": 154,
   "metadata": {},
   "outputs": [
    {
     "name": "stdout",
     "output_type": "stream",
     "text": [
      "sessionA:-34.9541508345,sessionB:-34.954150578000004,sessionC:-34.954150695\n"
     ]
    },
    {
     "data": {
      "image/png": "[encoded data removed]",
      "text/plain": [
       "<Figure size 432x288 with 1 Axes>"
      ]
     },
     "metadata": {
      "needs_background": "light"
     },
     "output_type": "display_data"
    }
   ],
   "source": [
    "fig,ax = plt.subplots()\n",
    "ax.plot(sessA.index,(sessA.latitude * DEG2RAD * 6.4e6).values)\n",
    "ax.plot(sessB.index,(sessB.latitude * DEG2RAD * 6.4e6).values)\n",
    "ax.plot(sessC.index,(sessC.latitude * DEG2RAD * 6.4e6).values)\n",
    "\n",
    "print('sessionA:{},sessionB:{},sessionC:{}'.format(*[i.latitude.median() for i in (sessA,sessB,sessC)]))\n",
    "\n",
    "plt.show()"
   ]
  },
  {
   "cell_type": "code",
   "execution_count": 155,
   "metadata": {},
   "outputs": [
    {
     "name": "stdout",
     "output_type": "stream",
     "text": [
      "sessionA:-58.792189788,sessionB:-58.79218934399999,sessionC:-58.792189618\n"
     ]
    },
    {
     "data": {
      "image/png": "[encoded data removed]",
      "text/plain": [
       "<Figure size 432x288 with 1 Axes>"
      ]
     },
     "metadata": {
      "needs_background": "light"
     },
     "output_type": "display_data"
    }
   ],
   "source": [
    "reflat = stat.latitude.median()\n",
    "cosreflat = cos(reflat * DEG2RAD)\n",
    "\n",
    "(sessA.longitude * DEG2RAD * cosreflat * 6.4e6).plot()\n",
    "(sessB.longitude * DEG2RAD * cosreflat * 6.4e6).plot()\n",
    "(sessC.longitude * DEG2RAD * cosreflat * 6.4e6).plot()\n",
    "\n",
    "print('sessionA:{},sessionB:{},sessionC:{}'.format(*[i.longitude.median() for i in (sessA,sessB,sessC)]))\n",
    "\n",
    "plt.show()"
   ]
  },
  {
   "cell_type": "code",
   "execution_count": 156,
   "metadata": {},
   "outputs": [
    {
     "name": "stdout",
     "output_type": "stream",
     "text": [
      "sessionA:36.3218,sessionB:36.3269,sessionC:36.3035\n"
     ]
    },
    {
     "data": {
      "image/png": "[encoded data removed]",
      "text/plain": [
       "<Figure size 432x288 with 1 Axes>"
      ]
     },
     "metadata": {
      "needs_background": "light"
     },
     "output_type": "display_data"
    }
   ],
   "source": [
    "fig,ax = plt.subplots()\n",
    "ax.plot(sessA.index,(sessA.height).values)\n",
    "ax.plot(sessB.index,(sessB.height).values)\n",
    "ax.plot(sessC.index,(sessC.height).values)\n",
    "\n",
    "print('sessionA:{},sessionB:{},sessionC:{}'.format(*[i.height.median() for i in (sessA,sessB,sessC)]))\n",
    "\n",
    "plt.show()"
   ]
  },
  {
   "cell_type": "code",
   "execution_count": 162,
   "metadata": {},
   "outputs": [
    {
     "name": "stdout",
     "output_type": "stream",
     "text": [
      "-3904412.826\n",
      "-3904412.797\n",
      "-3904412.810\n"
     ]
    }
   ],
   "source": [
    "print('{:.3f}'.format(sessA.latitude.median() * DEG2RAD * 6.4e6))\n",
    "print('{:.3f}'.format(sessB.latitude.median() * DEG2RAD * 6.4e6))\n",
    "print('{:.3f}'.format(sessC.latitude.median() * DEG2RAD * 6.4e6))"
   ]
  },
  {
   "cell_type": "code",
   "execution_count": null,
   "metadata": {},
   "outputs": [],
   "source": []
  }
 ],
 "metadata": {
  "kernelspec": {
   "display_name": "Python 3",
   "language": "python",
   "name": "python3"
  },
  "language_info": {
   "codemirror_mode": {
    "name": "ipython",
    "version": 3
   },
   "file_extension": ".py",
   "mimetype": "text/x-python",
   "name": "python",
   "nbconvert_exporter": "python",
   "pygments_lexer": "ipython3",
   "version": "3.8.6"
  }
 },
 "nbformat": 4,
 "nbformat_minor": 4
}
