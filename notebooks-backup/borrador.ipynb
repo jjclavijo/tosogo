{
 "cells": [
  {
   "cell_type": "code",
   "execution_count": 37,
   "metadata": {},
   "outputs": [],
   "source": [
    "import ipywidgets as widgets"
   ]
  },
  {
   "cell_type": "code",
   "execution_count": 38,
   "metadata": {},
   "outputs": [],
   "source": [
    "uploader = widgets.FileUpload(accept='.20o')\n",
    "grid = widgets.GridspecLayout(1,1)\n",
    "grid[0,0]= uploader"
   ]
  },
  {
   "cell_type": "code",
   "execution_count": 39,
   "metadata": {},
   "outputs": [
    {
     "data": {
      "application/vnd.jupyter.widget-view+json": {
       "model_id": "c17ce1da9f584b6cb01e13fae05dbeb0",
       "version_major": 2,
       "version_minor": 0
      },
      "text/plain": [
       "GridspecLayout(children=(FileUpload(value={}, accept='.20o', description='Upload', layout=Layout(grid_area='wi…"
      ]
     },
     "metadata": {},
     "output_type": "display_data"
    }
   ],
   "source": [
    "grid"
   ]
  },
  {
   "cell_type": "code",
   "execution_count": 3,
   "metadata": {},
   "outputs": [
    {
     "data": {
      "application/vnd.jupyter.widget-view+json": {
       "model_id": "4323c788b4f74fefa802297aa186356b",
       "version_major": 2,
       "version_minor": 0
      },
      "text/plain": [
       "Output()"
      ]
     },
     "metadata": {},
     "output_type": "display_data"
    }
   ],
   "source": [
    "from ipywidgets import FileUpload,Output\n",
    "\n",
    "out = Output()\n",
    "\n",
    "@out.capture()\n",
    "def show_content(change):\n",
    "    print('sarlanga')\n",
    "    print(change['new'].keys())\n",
    "\n",
    "w = FileUpload(multiple=False)\n",
    "\n",
    "state = w.get_state()\n",
    "\n",
    "w.observe(show_content, 'value')\n",
    "\n",
    "with out:\n",
    "    display(w)\n",
    "\n",
    "out\n"
   ]
  },
  {
   "cell_type": "code",
   "execution_count": 1,
   "metadata": {},
   "outputs": [
    {
     "data": {
      "application/vnd.jupyter.widget-view+json": {
       "model_id": "0a18582c6642424dbc4cd2e9cbed9258",
       "version_major": 2,
       "version_minor": 0
      },
      "text/plain": [
       "FileUpload(value={}, description='Upload')"
      ]
     },
     "metadata": {},
     "output_type": "display_data"
    }
   ],
   "source": [
    "from ipywidgets import FileUpload\n",
    "\n",
    "def on_upload_change(change):\n",
    "    if change.new==0:\n",
    "        print ('cleared')\n",
    "        return\n",
    "    up = change.owner\n",
    "    print (type(up.value))\n",
    "    for filename,data in up.value.items():\n",
    "        print('==========================================================================================')\n",
    "        print(filename)\n",
    "        for k,v in data['metadata'].items():\n",
    "            print(f'    -{k:13}:[{v}]')\n",
    "        print(f'    -content len  :[{len(data[\"content\"])}]')\n",
    "        print('==========================================================================================')\n",
    "    up.value.clear()\n",
    "    up._counter = 0\n",
    "\n",
    "upload_btn = FileUpload()\n",
    "upload_btn.observe(on_upload_change, names='_counter')\n",
    "upload_btn"
   ]
  },
  {
   "cell_type": "code",
   "execution_count": 5,
   "metadata": {},
   "outputs": [
    {
     "data": {
      "text/plain": [
       "{}"
      ]
     },
     "execution_count": 5,
     "metadata": {},
     "output_type": "execute_result"
    }
   ],
   "source": [
    "w.value"
   ]
  },
  {
   "cell_type": "code",
   "execution_count": null,
   "metadata": {},
   "outputs": [],
   "source": []
  }
 ],
 "metadata": {
  "kernelspec": {
   "display_name": "Python 3",
   "language": "python",
   "name": "python3"
  },
  "language_info": {
   "codemirror_mode": {
    "name": "ipython",
    "version": 3
   },
   "file_extension": ".py",
   "mimetype": "text/x-python",
   "name": "python",
   "nbconvert_exporter": "python",
   "pygments_lexer": "ipython3",
   "version": "3.8.6"
  }
 },
 "nbformat": 4,
 "nbformat_minor": 4
}
